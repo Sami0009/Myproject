{
 "cells": [
  {
   "cell_type": "markdown",
   "metadata": {
    "papermill": {
     "duration": 0.028264,
     "end_time": "2021-04-03T21:57:47.483823",
     "exception": false,
     "start_time": "2021-04-03T21:57:47.455559",
     "status": "completed"
    },
    "tags": []
   },
   "source": [
    "# Car Price Prediction Using Keras"
   ]
  },
  {
   "cell_type": "markdown",
   "metadata": {
    "papermill": {
     "duration": 0.026765,
     "end_time": "2021-04-03T21:57:47.537888",
     "exception": false,
     "start_time": "2021-04-03T21:57:47.511123",
     "status": "completed"
    },
    "tags": []
   },
   "source": [
    "#### Below are the steps which we will be basically following:\n",
    "\n",
    "1. [Step 1: Reading and Understanding the Data](#1)\n",
    "1.  [Step 2: Cleaning the Data](#2)\n",
    "    - Missing Value check\n",
    "    - Data type check\n",
    "    - Duplicate check\n",
    "1. [Step 3: Data Visualization](#3)\n",
    "    - Heatmap\n",
    "1. [Step 4: Data Preprocessing](#4) \n",
    "   - One-Hot Encoding\n",
    "1. [Step 5: Splitting the Data into Training and Testing Sets](#5)\n",
    "1. [Step 6: Normalizing the Data](#6)\n",
    "1. [Step 7: Building a Model](#7)\n",
    "1. [Step 8: K-Fold Validation](#8)\n",
    "1. [Step 9: Training](#9)\n",
    "1. [Step 10: Model Evaluation](#10)\n",
    "   - MSE Score\n",
    "1. [Step 11: Prediction](#11)"
   ]
  },
  {
   "cell_type": "markdown",
   "metadata": {
    "papermill": {
     "duration": 0.027123,
     "end_time": "2021-04-03T21:57:47.593568",
     "exception": false,
     "start_time": "2021-04-03T21:57:47.566445",
     "status": "completed"
    },
    "tags": []
   },
   "source": [
    "## Setting-up Envoirnment "
   ]
  },
  {
   "cell_type": "markdown",
   "metadata": {
    "papermill": {
     "duration": 0.026994,
     "end_time": "2021-04-03T21:57:47.647849",
     "exception": false,
     "start_time": "2021-04-03T21:57:47.620855",
     "status": "completed"
    },
    "tags": []
   },
   "source": [
    "Firstly, we will import all the required libraries."
   ]
  },
  {
   "cell_type": "code",
   "execution_count": 1,
   "metadata": {
    "_cell_guid": "b1076dfc-b9ad-4769-8c92-a6c4dae69d19",
    "_uuid": "8f2839f25d086af736a60e9eeb907d3b93b6e0e5",
    "execution": {
     "iopub.execute_input": "2021-04-03T21:57:47.709918Z",
     "iopub.status.busy": "2021-04-03T21:57:47.709213Z",
     "iopub.status.idle": "2021-04-03T21:57:54.993977Z",
     "shell.execute_reply": "2021-04-03T21:57:54.993168Z"
    },
    "papermill": {
     "duration": 7.318846,
     "end_time": "2021-04-03T21:57:54.994168",
     "exception": false,
     "start_time": "2021-04-03T21:57:47.675322",
     "status": "completed"
    },
    "tags": []
   },
   "outputs": [],
   "source": [
    "import numpy as np # linear algebra\n",
    "import pandas as pd # data processing, CSV file I/O (e.g. pd.read_csv)\n",
    "import matplotlib.pyplot as plt\n",
    "import seaborn as sns\n",
    "import os\n",
    "plt.rcParams['figure.figsize']=(12,5)\n",
    "from keras.models import Sequential\n",
    "from keras.layers import Dense\n",
    "from keras.layers import Dropout\n",
    "from keras import regularizers\n",
    "#!pip install openpyxl"
   ]
  },
  {
   "cell_type": "markdown",
   "metadata": {
    "papermill": {
     "duration": 0.02815,
     "end_time": "2021-04-03T21:57:55.050080",
     "exception": false,
     "start_time": "2021-04-03T21:57:55.021930",
     "status": "completed"
    },
    "tags": []
   },
   "source": [
    "<a id=\"1\"></a> <br>\n",
    "## Loading Data"
   ]
  },
  {
   "cell_type": "code",
   "execution_count": 2,
   "metadata": {
    "execution": {
     "iopub.execute_input": "2021-04-03T21:57:55.111213Z",
     "iopub.status.busy": "2021-04-03T21:57:55.110483Z",
     "iopub.status.idle": "2021-04-03T21:57:55.137694Z",
     "shell.execute_reply": "2021-04-03T21:57:55.137141Z"
    },
    "papermill": {
     "duration": 0.059702,
     "end_time": "2021-04-03T21:57:55.137843",
     "exception": false,
     "start_time": "2021-04-03T21:57:55.078141",
     "status": "completed"
    },
    "tags": []
   },
   "outputs": [],
   "source": [
    "df_car = pd.read_csv(\"../input/car-price-prediction/CarPrice_Assignment.csv\")\n",
    "#data_car = pd.read_excel(\"../input/car-price-prediction/Data Dictionary - carprices.xlsx\")"
   ]
  },
  {
   "cell_type": "code",
   "execution_count": 3,
   "metadata": {
    "execution": {
     "iopub.execute_input": "2021-04-03T21:57:55.214829Z",
     "iopub.status.busy": "2021-04-03T21:57:55.214138Z",
     "iopub.status.idle": "2021-04-03T21:57:55.248312Z",
     "shell.execute_reply": "2021-04-03T21:57:55.247804Z"
    },
    "papermill": {
     "duration": 0.083195,
     "end_time": "2021-04-03T21:57:55.248500",
     "exception": false,
     "start_time": "2021-04-03T21:57:55.165305",
     "status": "completed"
    },
    "tags": []
   },
   "outputs": [
    {
     "data": {
      "text/html": [
       "<div>\n",
       "<style scoped>\n",
       "    .dataframe tbody tr th:only-of-type {\n",
       "        vertical-align: middle;\n",
       "    }\n",
       "\n",
       "    .dataframe tbody tr th {\n",
       "        vertical-align: top;\n",
       "    }\n",
       "\n",
       "    .dataframe thead th {\n",
       "        text-align: right;\n",
       "    }\n",
       "</style>\n",
       "<table border=\"1\" class=\"dataframe\">\n",
       "  <thead>\n",
       "    <tr style=\"text-align: right;\">\n",
       "      <th></th>\n",
       "      <th>car_ID</th>\n",
       "      <th>symboling</th>\n",
       "      <th>CarName</th>\n",
       "      <th>fueltype</th>\n",
       "      <th>aspiration</th>\n",
       "      <th>doornumber</th>\n",
       "      <th>carbody</th>\n",
       "      <th>drivewheel</th>\n",
       "      <th>enginelocation</th>\n",
       "      <th>wheelbase</th>\n",
       "      <th>...</th>\n",
       "      <th>enginesize</th>\n",
       "      <th>fuelsystem</th>\n",
       "      <th>boreratio</th>\n",
       "      <th>stroke</th>\n",
       "      <th>compressionratio</th>\n",
       "      <th>horsepower</th>\n",
       "      <th>peakrpm</th>\n",
       "      <th>citympg</th>\n",
       "      <th>highwaympg</th>\n",
       "      <th>price</th>\n",
       "    </tr>\n",
       "  </thead>\n",
       "  <tbody>\n",
       "    <tr>\n",
       "      <th>0</th>\n",
       "      <td>1</td>\n",
       "      <td>3</td>\n",
       "      <td>alfa-romero giulia</td>\n",
       "      <td>gas</td>\n",
       "      <td>std</td>\n",
       "      <td>two</td>\n",
       "      <td>convertible</td>\n",
       "      <td>rwd</td>\n",
       "      <td>front</td>\n",
       "      <td>88.6</td>\n",
       "      <td>...</td>\n",
       "      <td>130</td>\n",
       "      <td>mpfi</td>\n",
       "      <td>3.47</td>\n",
       "      <td>2.68</td>\n",
       "      <td>9.0</td>\n",
       "      <td>111</td>\n",
       "      <td>5000</td>\n",
       "      <td>21</td>\n",
       "      <td>27</td>\n",
       "      <td>13495.0</td>\n",
       "    </tr>\n",
       "    <tr>\n",
       "      <th>1</th>\n",
       "      <td>2</td>\n",
       "      <td>3</td>\n",
       "      <td>alfa-romero stelvio</td>\n",
       "      <td>gas</td>\n",
       "      <td>std</td>\n",
       "      <td>two</td>\n",
       "      <td>convertible</td>\n",
       "      <td>rwd</td>\n",
       "      <td>front</td>\n",
       "      <td>88.6</td>\n",
       "      <td>...</td>\n",
       "      <td>130</td>\n",
       "      <td>mpfi</td>\n",
       "      <td>3.47</td>\n",
       "      <td>2.68</td>\n",
       "      <td>9.0</td>\n",
       "      <td>111</td>\n",
       "      <td>5000</td>\n",
       "      <td>21</td>\n",
       "      <td>27</td>\n",
       "      <td>16500.0</td>\n",
       "    </tr>\n",
       "    <tr>\n",
       "      <th>2</th>\n",
       "      <td>3</td>\n",
       "      <td>1</td>\n",
       "      <td>alfa-romero Quadrifoglio</td>\n",
       "      <td>gas</td>\n",
       "      <td>std</td>\n",
       "      <td>two</td>\n",
       "      <td>hatchback</td>\n",
       "      <td>rwd</td>\n",
       "      <td>front</td>\n",
       "      <td>94.5</td>\n",
       "      <td>...</td>\n",
       "      <td>152</td>\n",
       "      <td>mpfi</td>\n",
       "      <td>2.68</td>\n",
       "      <td>3.47</td>\n",
       "      <td>9.0</td>\n",
       "      <td>154</td>\n",
       "      <td>5000</td>\n",
       "      <td>19</td>\n",
       "      <td>26</td>\n",
       "      <td>16500.0</td>\n",
       "    </tr>\n",
       "    <tr>\n",
       "      <th>3</th>\n",
       "      <td>4</td>\n",
       "      <td>2</td>\n",
       "      <td>audi 100 ls</td>\n",
       "      <td>gas</td>\n",
       "      <td>std</td>\n",
       "      <td>four</td>\n",
       "      <td>sedan</td>\n",
       "      <td>fwd</td>\n",
       "      <td>front</td>\n",
       "      <td>99.8</td>\n",
       "      <td>...</td>\n",
       "      <td>109</td>\n",
       "      <td>mpfi</td>\n",
       "      <td>3.19</td>\n",
       "      <td>3.40</td>\n",
       "      <td>10.0</td>\n",
       "      <td>102</td>\n",
       "      <td>5500</td>\n",
       "      <td>24</td>\n",
       "      <td>30</td>\n",
       "      <td>13950.0</td>\n",
       "    </tr>\n",
       "    <tr>\n",
       "      <th>4</th>\n",
       "      <td>5</td>\n",
       "      <td>2</td>\n",
       "      <td>audi 100ls</td>\n",
       "      <td>gas</td>\n",
       "      <td>std</td>\n",
       "      <td>four</td>\n",
       "      <td>sedan</td>\n",
       "      <td>4wd</td>\n",
       "      <td>front</td>\n",
       "      <td>99.4</td>\n",
       "      <td>...</td>\n",
       "      <td>136</td>\n",
       "      <td>mpfi</td>\n",
       "      <td>3.19</td>\n",
       "      <td>3.40</td>\n",
       "      <td>8.0</td>\n",
       "      <td>115</td>\n",
       "      <td>5500</td>\n",
       "      <td>18</td>\n",
       "      <td>22</td>\n",
       "      <td>17450.0</td>\n",
       "    </tr>\n",
       "  </tbody>\n",
       "</table>\n",
       "<p>5 rows × 26 columns</p>\n",
       "</div>"
      ],
      "text/plain": [
       "   car_ID  symboling                   CarName fueltype aspiration doornumber  \\\n",
       "0       1          3        alfa-romero giulia      gas        std        two   \n",
       "1       2          3       alfa-romero stelvio      gas        std        two   \n",
       "2       3          1  alfa-romero Quadrifoglio      gas        std        two   \n",
       "3       4          2               audi 100 ls      gas        std       four   \n",
       "4       5          2                audi 100ls      gas        std       four   \n",
       "\n",
       "       carbody drivewheel enginelocation  wheelbase  ...  enginesize  \\\n",
       "0  convertible        rwd          front       88.6  ...         130   \n",
       "1  convertible        rwd          front       88.6  ...         130   \n",
       "2    hatchback        rwd          front       94.5  ...         152   \n",
       "3        sedan        fwd          front       99.8  ...         109   \n",
       "4        sedan        4wd          front       99.4  ...         136   \n",
       "\n",
       "   fuelsystem  boreratio  stroke compressionratio horsepower  peakrpm citympg  \\\n",
       "0        mpfi       3.47    2.68              9.0        111     5000      21   \n",
       "1        mpfi       3.47    2.68              9.0        111     5000      21   \n",
       "2        mpfi       2.68    3.47              9.0        154     5000      19   \n",
       "3        mpfi       3.19    3.40             10.0        102     5500      24   \n",
       "4        mpfi       3.19    3.40              8.0        115     5500      18   \n",
       "\n",
       "   highwaympg    price  \n",
       "0          27  13495.0  \n",
       "1          27  16500.0  \n",
       "2          26  16500.0  \n",
       "3          30  13950.0  \n",
       "4          22  17450.0  \n",
       "\n",
       "[5 rows x 26 columns]"
      ]
     },
     "execution_count": 3,
     "metadata": {},
     "output_type": "execute_result"
    }
   ],
   "source": [
    "df_car.head()"
   ]
  },
  {
   "cell_type": "markdown",
   "metadata": {
    "papermill": {
     "duration": 0.029142,
     "end_time": "2021-04-03T21:57:55.306781",
     "exception": false,
     "start_time": "2021-04-03T21:57:55.277639",
     "status": "completed"
    },
    "tags": []
   },
   "source": [
    "#### Checking Shape and Size"
   ]
  },
  {
   "cell_type": "code",
   "execution_count": 4,
   "metadata": {
    "execution": {
     "iopub.execute_input": "2021-04-03T21:57:55.369685Z",
     "iopub.status.busy": "2021-04-03T21:57:55.368771Z",
     "iopub.status.idle": "2021-04-03T21:57:55.372122Z",
     "shell.execute_reply": "2021-04-03T21:57:55.372662Z"
    },
    "papermill": {
     "duration": 0.037365,
     "end_time": "2021-04-03T21:57:55.372842",
     "exception": false,
     "start_time": "2021-04-03T21:57:55.335477",
     "status": "completed"
    },
    "tags": []
   },
   "outputs": [
    {
     "name": "stdout",
     "output_type": "stream",
     "text": [
      "(205, 26)\n",
      "5330\n"
     ]
    }
   ],
   "source": [
    "print(df_car.shape)\n",
    "print(df_car.size)"
   ]
  },
  {
   "cell_type": "markdown",
   "metadata": {
    "papermill": {
     "duration": 0.028677,
     "end_time": "2021-04-03T21:57:55.430611",
     "exception": false,
     "start_time": "2021-04-03T21:57:55.401934",
     "status": "completed"
    },
    "tags": []
   },
   "source": [
    "<a id=\"2\"></a> <br>\n",
    "## Cleaning the Data"
   ]
  },
  {
   "cell_type": "code",
   "execution_count": 5,
   "metadata": {
    "execution": {
     "iopub.execute_input": "2021-04-03T21:57:55.515584Z",
     "iopub.status.busy": "2021-04-03T21:57:55.502481Z",
     "iopub.status.idle": "2021-04-03T21:57:55.519687Z",
     "shell.execute_reply": "2021-04-03T21:57:55.519055Z"
    },
    "papermill": {
     "duration": 0.060492,
     "end_time": "2021-04-03T21:57:55.519827",
     "exception": false,
     "start_time": "2021-04-03T21:57:55.459335",
     "status": "completed"
    },
    "tags": []
   },
   "outputs": [
    {
     "name": "stdout",
     "output_type": "stream",
     "text": [
      "<class 'pandas.core.frame.DataFrame'>\n",
      "RangeIndex: 205 entries, 0 to 204\n",
      "Data columns (total 26 columns):\n",
      " #   Column            Non-Null Count  Dtype  \n",
      "---  ------            --------------  -----  \n",
      " 0   car_ID            205 non-null    int64  \n",
      " 1   symboling         205 non-null    int64  \n",
      " 2   CarName           205 non-null    object \n",
      " 3   fueltype          205 non-null    object \n",
      " 4   aspiration        205 non-null    object \n",
      " 5   doornumber        205 non-null    object \n",
      " 6   carbody           205 non-null    object \n",
      " 7   drivewheel        205 non-null    object \n",
      " 8   enginelocation    205 non-null    object \n",
      " 9   wheelbase         205 non-null    float64\n",
      " 10  carlength         205 non-null    float64\n",
      " 11  carwidth          205 non-null    float64\n",
      " 12  carheight         205 non-null    float64\n",
      " 13  curbweight        205 non-null    int64  \n",
      " 14  enginetype        205 non-null    object \n",
      " 15  cylindernumber    205 non-null    object \n",
      " 16  enginesize        205 non-null    int64  \n",
      " 17  fuelsystem        205 non-null    object \n",
      " 18  boreratio         205 non-null    float64\n",
      " 19  stroke            205 non-null    float64\n",
      " 20  compressionratio  205 non-null    float64\n",
      " 21  horsepower        205 non-null    int64  \n",
      " 22  peakrpm           205 non-null    int64  \n",
      " 23  citympg           205 non-null    int64  \n",
      " 24  highwaympg        205 non-null    int64  \n",
      " 25  price             205 non-null    float64\n",
      "dtypes: float64(8), int64(8), object(10)\n",
      "memory usage: 41.8+ KB\n"
     ]
    }
   ],
   "source": [
    "df_car.info()"
   ]
  },
  {
   "cell_type": "markdown",
   "metadata": {
    "papermill": {
     "duration": 0.029405,
     "end_time": "2021-04-03T21:57:55.578550",
     "exception": false,
     "start_time": "2021-04-03T21:57:55.549145",
     "status": "completed"
    },
    "tags": []
   },
   "source": [
    "There is no missing value."
   ]
  },
  {
   "cell_type": "code",
   "execution_count": 6,
   "metadata": {
    "execution": {
     "iopub.execute_input": "2021-04-03T21:57:55.646447Z",
     "iopub.status.busy": "2021-04-03T21:57:55.645729Z",
     "iopub.status.idle": "2021-04-03T21:57:55.700525Z",
     "shell.execute_reply": "2021-04-03T21:57:55.699486Z"
    },
    "papermill": {
     "duration": 0.092799,
     "end_time": "2021-04-03T21:57:55.700683",
     "exception": false,
     "start_time": "2021-04-03T21:57:55.607884",
     "status": "completed"
    },
    "tags": []
   },
   "outputs": [
    {
     "data": {
      "text/html": [
       "<div>\n",
       "<style scoped>\n",
       "    .dataframe tbody tr th:only-of-type {\n",
       "        vertical-align: middle;\n",
       "    }\n",
       "\n",
       "    .dataframe tbody tr th {\n",
       "        vertical-align: top;\n",
       "    }\n",
       "\n",
       "    .dataframe thead th {\n",
       "        text-align: right;\n",
       "    }\n",
       "</style>\n",
       "<table border=\"1\" class=\"dataframe\">\n",
       "  <thead>\n",
       "    <tr style=\"text-align: right;\">\n",
       "      <th></th>\n",
       "      <th>car_ID</th>\n",
       "      <th>symboling</th>\n",
       "      <th>wheelbase</th>\n",
       "      <th>carlength</th>\n",
       "      <th>carwidth</th>\n",
       "      <th>carheight</th>\n",
       "      <th>curbweight</th>\n",
       "      <th>enginesize</th>\n",
       "      <th>boreratio</th>\n",
       "      <th>stroke</th>\n",
       "      <th>compressionratio</th>\n",
       "      <th>horsepower</th>\n",
       "      <th>peakrpm</th>\n",
       "      <th>citympg</th>\n",
       "      <th>highwaympg</th>\n",
       "      <th>price</th>\n",
       "    </tr>\n",
       "  </thead>\n",
       "  <tbody>\n",
       "    <tr>\n",
       "      <th>count</th>\n",
       "      <td>205.000000</td>\n",
       "      <td>205.000000</td>\n",
       "      <td>205.000000</td>\n",
       "      <td>205.000000</td>\n",
       "      <td>205.000000</td>\n",
       "      <td>205.000000</td>\n",
       "      <td>205.000000</td>\n",
       "      <td>205.000000</td>\n",
       "      <td>205.000000</td>\n",
       "      <td>205.000000</td>\n",
       "      <td>205.000000</td>\n",
       "      <td>205.000000</td>\n",
       "      <td>205.000000</td>\n",
       "      <td>205.000000</td>\n",
       "      <td>205.000000</td>\n",
       "      <td>205.000000</td>\n",
       "    </tr>\n",
       "    <tr>\n",
       "      <th>mean</th>\n",
       "      <td>103.000000</td>\n",
       "      <td>0.834146</td>\n",
       "      <td>98.756585</td>\n",
       "      <td>174.049268</td>\n",
       "      <td>65.907805</td>\n",
       "      <td>53.724878</td>\n",
       "      <td>2555.565854</td>\n",
       "      <td>126.907317</td>\n",
       "      <td>3.329756</td>\n",
       "      <td>3.255415</td>\n",
       "      <td>10.142537</td>\n",
       "      <td>104.117073</td>\n",
       "      <td>5125.121951</td>\n",
       "      <td>25.219512</td>\n",
       "      <td>30.751220</td>\n",
       "      <td>13276.710571</td>\n",
       "    </tr>\n",
       "    <tr>\n",
       "      <th>std</th>\n",
       "      <td>59.322565</td>\n",
       "      <td>1.245307</td>\n",
       "      <td>6.021776</td>\n",
       "      <td>12.337289</td>\n",
       "      <td>2.145204</td>\n",
       "      <td>2.443522</td>\n",
       "      <td>520.680204</td>\n",
       "      <td>41.642693</td>\n",
       "      <td>0.270844</td>\n",
       "      <td>0.313597</td>\n",
       "      <td>3.972040</td>\n",
       "      <td>39.544167</td>\n",
       "      <td>476.985643</td>\n",
       "      <td>6.542142</td>\n",
       "      <td>6.886443</td>\n",
       "      <td>7988.852332</td>\n",
       "    </tr>\n",
       "    <tr>\n",
       "      <th>min</th>\n",
       "      <td>1.000000</td>\n",
       "      <td>-2.000000</td>\n",
       "      <td>86.600000</td>\n",
       "      <td>141.100000</td>\n",
       "      <td>60.300000</td>\n",
       "      <td>47.800000</td>\n",
       "      <td>1488.000000</td>\n",
       "      <td>61.000000</td>\n",
       "      <td>2.540000</td>\n",
       "      <td>2.070000</td>\n",
       "      <td>7.000000</td>\n",
       "      <td>48.000000</td>\n",
       "      <td>4150.000000</td>\n",
       "      <td>13.000000</td>\n",
       "      <td>16.000000</td>\n",
       "      <td>5118.000000</td>\n",
       "    </tr>\n",
       "    <tr>\n",
       "      <th>25%</th>\n",
       "      <td>52.000000</td>\n",
       "      <td>0.000000</td>\n",
       "      <td>94.500000</td>\n",
       "      <td>166.300000</td>\n",
       "      <td>64.100000</td>\n",
       "      <td>52.000000</td>\n",
       "      <td>2145.000000</td>\n",
       "      <td>97.000000</td>\n",
       "      <td>3.150000</td>\n",
       "      <td>3.110000</td>\n",
       "      <td>8.600000</td>\n",
       "      <td>70.000000</td>\n",
       "      <td>4800.000000</td>\n",
       "      <td>19.000000</td>\n",
       "      <td>25.000000</td>\n",
       "      <td>7788.000000</td>\n",
       "    </tr>\n",
       "    <tr>\n",
       "      <th>50%</th>\n",
       "      <td>103.000000</td>\n",
       "      <td>1.000000</td>\n",
       "      <td>97.000000</td>\n",
       "      <td>173.200000</td>\n",
       "      <td>65.500000</td>\n",
       "      <td>54.100000</td>\n",
       "      <td>2414.000000</td>\n",
       "      <td>120.000000</td>\n",
       "      <td>3.310000</td>\n",
       "      <td>3.290000</td>\n",
       "      <td>9.000000</td>\n",
       "      <td>95.000000</td>\n",
       "      <td>5200.000000</td>\n",
       "      <td>24.000000</td>\n",
       "      <td>30.000000</td>\n",
       "      <td>10295.000000</td>\n",
       "    </tr>\n",
       "    <tr>\n",
       "      <th>75%</th>\n",
       "      <td>154.000000</td>\n",
       "      <td>2.000000</td>\n",
       "      <td>102.400000</td>\n",
       "      <td>183.100000</td>\n",
       "      <td>66.900000</td>\n",
       "      <td>55.500000</td>\n",
       "      <td>2935.000000</td>\n",
       "      <td>141.000000</td>\n",
       "      <td>3.580000</td>\n",
       "      <td>3.410000</td>\n",
       "      <td>9.400000</td>\n",
       "      <td>116.000000</td>\n",
       "      <td>5500.000000</td>\n",
       "      <td>30.000000</td>\n",
       "      <td>34.000000</td>\n",
       "      <td>16503.000000</td>\n",
       "    </tr>\n",
       "    <tr>\n",
       "      <th>max</th>\n",
       "      <td>205.000000</td>\n",
       "      <td>3.000000</td>\n",
       "      <td>120.900000</td>\n",
       "      <td>208.100000</td>\n",
       "      <td>72.300000</td>\n",
       "      <td>59.800000</td>\n",
       "      <td>4066.000000</td>\n",
       "      <td>326.000000</td>\n",
       "      <td>3.940000</td>\n",
       "      <td>4.170000</td>\n",
       "      <td>23.000000</td>\n",
       "      <td>288.000000</td>\n",
       "      <td>6600.000000</td>\n",
       "      <td>49.000000</td>\n",
       "      <td>54.000000</td>\n",
       "      <td>45400.000000</td>\n",
       "    </tr>\n",
       "  </tbody>\n",
       "</table>\n",
       "</div>"
      ],
      "text/plain": [
       "           car_ID   symboling   wheelbase   carlength    carwidth   carheight  \\\n",
       "count  205.000000  205.000000  205.000000  205.000000  205.000000  205.000000   \n",
       "mean   103.000000    0.834146   98.756585  174.049268   65.907805   53.724878   \n",
       "std     59.322565    1.245307    6.021776   12.337289    2.145204    2.443522   \n",
       "min      1.000000   -2.000000   86.600000  141.100000   60.300000   47.800000   \n",
       "25%     52.000000    0.000000   94.500000  166.300000   64.100000   52.000000   \n",
       "50%    103.000000    1.000000   97.000000  173.200000   65.500000   54.100000   \n",
       "75%    154.000000    2.000000  102.400000  183.100000   66.900000   55.500000   \n",
       "max    205.000000    3.000000  120.900000  208.100000   72.300000   59.800000   \n",
       "\n",
       "        curbweight  enginesize   boreratio      stroke  compressionratio  \\\n",
       "count   205.000000  205.000000  205.000000  205.000000        205.000000   \n",
       "mean   2555.565854  126.907317    3.329756    3.255415         10.142537   \n",
       "std     520.680204   41.642693    0.270844    0.313597          3.972040   \n",
       "min    1488.000000   61.000000    2.540000    2.070000          7.000000   \n",
       "25%    2145.000000   97.000000    3.150000    3.110000          8.600000   \n",
       "50%    2414.000000  120.000000    3.310000    3.290000          9.000000   \n",
       "75%    2935.000000  141.000000    3.580000    3.410000          9.400000   \n",
       "max    4066.000000  326.000000    3.940000    4.170000         23.000000   \n",
       "\n",
       "       horsepower      peakrpm     citympg  highwaympg         price  \n",
       "count  205.000000   205.000000  205.000000  205.000000    205.000000  \n",
       "mean   104.117073  5125.121951   25.219512   30.751220  13276.710571  \n",
       "std     39.544167   476.985643    6.542142    6.886443   7988.852332  \n",
       "min     48.000000  4150.000000   13.000000   16.000000   5118.000000  \n",
       "25%     70.000000  4800.000000   19.000000   25.000000   7788.000000  \n",
       "50%     95.000000  5200.000000   24.000000   30.000000  10295.000000  \n",
       "75%    116.000000  5500.000000   30.000000   34.000000  16503.000000  \n",
       "max    288.000000  6600.000000   49.000000   54.000000  45400.000000  "
      ]
     },
     "execution_count": 6,
     "metadata": {},
     "output_type": "execute_result"
    }
   ],
   "source": [
    "df_car.describe()"
   ]
  },
  {
   "cell_type": "markdown",
   "metadata": {
    "papermill": {
     "duration": 0.030915,
     "end_time": "2021-04-03T21:57:55.762350",
     "exception": false,
     "start_time": "2021-04-03T21:57:55.731435",
     "status": "completed"
    },
    "tags": []
   },
   "source": [
    "#### Dropping Useless Column"
   ]
  },
  {
   "cell_type": "code",
   "execution_count": 7,
   "metadata": {
    "execution": {
     "iopub.execute_input": "2021-04-03T21:57:55.829734Z",
     "iopub.status.busy": "2021-04-03T21:57:55.828809Z",
     "iopub.status.idle": "2021-04-03T21:57:55.832186Z",
     "shell.execute_reply": "2021-04-03T21:57:55.831673Z"
    },
    "papermill": {
     "duration": 0.039585,
     "end_time": "2021-04-03T21:57:55.832325",
     "exception": false,
     "start_time": "2021-04-03T21:57:55.792740",
     "status": "completed"
    },
    "tags": []
   },
   "outputs": [],
   "source": [
    "df_car.drop(columns = ['car_ID'], inplace= True)"
   ]
  },
  {
   "cell_type": "markdown",
   "metadata": {
    "papermill": {
     "duration": 0.030885,
     "end_time": "2021-04-03T21:57:55.893805",
     "exception": false,
     "start_time": "2021-04-03T21:57:55.862920",
     "status": "completed"
    },
    "tags": []
   },
   "source": [
    "<a id=\"3\"></a> <br>\n",
    "## Data Visualization"
   ]
  },
  {
   "cell_type": "code",
   "execution_count": 8,
   "metadata": {
    "execution": {
     "iopub.execute_input": "2021-04-03T21:57:55.967572Z",
     "iopub.status.busy": "2021-04-03T21:57:55.965979Z",
     "iopub.status.idle": "2021-04-03T21:57:57.674260Z",
     "shell.execute_reply": "2021-04-03T21:57:57.673708Z"
    },
    "papermill": {
     "duration": 1.749188,
     "end_time": "2021-04-03T21:57:57.674463",
     "exception": false,
     "start_time": "2021-04-03T21:57:55.925275",
     "status": "completed"
    },
    "tags": []
   },
   "outputs": [
    {
     "data": {
      "text/plain": [
       "<AxesSubplot:>"
      ]
     },
     "execution_count": 8,
     "metadata": {},
     "output_type": "execute_result"
    },
    {
     "data": {
      "image/png": "[encoded data removed]",
      "text/plain": [
       "<Figure size 1152x720 with 2 Axes>"
      ]
     },
     "metadata": {
      "needs_background": "light"
     },
     "output_type": "display_data"
    }
   ],
   "source": [
    "plt.figure(figsize=(16,10))\n",
    "sns.heatmap(df_car.select_dtypes(include=['int','float']).corr(),annot=True)"
   ]
  },
  {
   "cell_type": "markdown",
   "metadata": {
    "papermill": {
     "duration": 0.035716,
     "end_time": "2021-04-03T21:57:57.746018",
     "exception": false,
     "start_time": "2021-04-03T21:57:57.710302",
     "status": "completed"
    },
    "tags": []
   },
   "source": [
    "Price is highly(positively) correlated with wheelbase, carlength, carwidth, curbweight and enginesize. And negatively correlated with citympg and highwaympg."
   ]
  },
  {
   "cell_type": "markdown",
   "metadata": {
    "papermill": {
     "duration": 0.035327,
     "end_time": "2021-04-03T21:57:57.816841",
     "exception": false,
     "start_time": "2021-04-03T21:57:57.781514",
     "status": "completed"
    },
    "tags": []
   },
   "source": [
    "<a id=\"4\"></a> <br>\n",
    "## Data Preprocessing"
   ]
  },
  {
   "cell_type": "code",
   "execution_count": 9,
   "metadata": {
    "execution": {
     "iopub.execute_input": "2021-04-03T21:57:57.892938Z",
     "iopub.status.busy": "2021-04-03T21:57:57.892226Z",
     "iopub.status.idle": "2021-04-03T21:57:57.897107Z",
     "shell.execute_reply": "2021-04-03T21:57:57.896413Z"
    },
    "papermill": {
     "duration": 0.04524,
     "end_time": "2021-04-03T21:57:57.897256",
     "exception": false,
     "start_time": "2021-04-03T21:57:57.852016",
     "status": "completed"
    },
    "tags": []
   },
   "outputs": [
    {
     "data": {
      "text/plain": [
       "Index(['symboling', 'CarName', 'fueltype', 'aspiration', 'doornumber',\n",
       "       'carbody', 'drivewheel', 'enginelocation', 'wheelbase', 'carlength',\n",
       "       'carwidth', 'carheight', 'curbweight', 'enginetype', 'cylindernumber',\n",
       "       'enginesize', 'fuelsystem', 'boreratio', 'stroke', 'compressionratio',\n",
       "       'horsepower', 'peakrpm', 'citympg', 'highwaympg', 'price'],\n",
       "      dtype='object')"
      ]
     },
     "execution_count": 9,
     "metadata": {},
     "output_type": "execute_result"
    }
   ],
   "source": [
    "df_car.columns"
   ]
  },
  {
   "cell_type": "code",
   "execution_count": 10,
   "metadata": {
    "execution": {
     "iopub.execute_input": "2021-04-03T21:57:57.990718Z",
     "iopub.status.busy": "2021-04-03T21:57:57.989567Z",
     "iopub.status.idle": "2021-04-03T21:57:57.999797Z",
     "shell.execute_reply": "2021-04-03T21:57:58.000264Z"
    },
    "papermill": {
     "duration": 0.065715,
     "end_time": "2021-04-03T21:57:58.000461",
     "exception": false,
     "start_time": "2021-04-03T21:57:57.934746",
     "status": "completed"
    },
    "tags": []
   },
   "outputs": [],
   "source": [
    "# Coverting categorical data to dummy variables\n",
    "car_dummies = pd.get_dummies(df_car,columns=['symboling','CarName', 'fueltype', 'aspiration', 'doornumber','carbody', \n",
    "                                             'drivewheel','enginelocation', 'enginetype', 'cylindernumber', 'fuelsystem'])"
   ]
  },
  {
   "cell_type": "code",
   "execution_count": 11,
   "metadata": {
    "execution": {
     "iopub.execute_input": "2021-04-03T21:57:58.080363Z",
     "iopub.status.busy": "2021-04-03T21:57:58.079729Z",
     "iopub.status.idle": "2021-04-03T21:57:58.507147Z",
     "shell.execute_reply": "2021-04-03T21:57:58.506557Z"
    },
    "papermill": {
     "duration": 0.470961,
     "end_time": "2021-04-03T21:57:58.507302",
     "exception": false,
     "start_time": "2021-04-03T21:57:58.036341",
     "status": "completed"
    },
    "tags": []
   },
   "outputs": [
    {
     "data": {
      "text/html": [
       "<div>\n",
       "<style scoped>\n",
       "    .dataframe tbody tr th:only-of-type {\n",
       "        vertical-align: middle;\n",
       "    }\n",
       "\n",
       "    .dataframe tbody tr th {\n",
       "        vertical-align: top;\n",
       "    }\n",
       "\n",
       "    .dataframe thead th {\n",
       "        text-align: right;\n",
       "    }\n",
       "</style>\n",
       "<table border=\"1\" class=\"dataframe\">\n",
       "  <thead>\n",
       "    <tr style=\"text-align: right;\">\n",
       "      <th></th>\n",
       "      <th>wheelbase</th>\n",
       "      <th>carlength</th>\n",
       "      <th>carwidth</th>\n",
       "      <th>carheight</th>\n",
       "      <th>curbweight</th>\n",
       "      <th>enginesize</th>\n",
       "      <th>boreratio</th>\n",
       "      <th>stroke</th>\n",
       "      <th>compressionratio</th>\n",
       "      <th>horsepower</th>\n",
       "      <th>...</th>\n",
       "      <th>cylindernumber_twelve</th>\n",
       "      <th>cylindernumber_two</th>\n",
       "      <th>fuelsystem_1bbl</th>\n",
       "      <th>fuelsystem_2bbl</th>\n",
       "      <th>fuelsystem_4bbl</th>\n",
       "      <th>fuelsystem_idi</th>\n",
       "      <th>fuelsystem_mfi</th>\n",
       "      <th>fuelsystem_mpfi</th>\n",
       "      <th>fuelsystem_spdi</th>\n",
       "      <th>fuelsystem_spfi</th>\n",
       "    </tr>\n",
       "  </thead>\n",
       "  <tbody>\n",
       "    <tr>\n",
       "      <th>count</th>\n",
       "      <td>205.000000</td>\n",
       "      <td>205.000000</td>\n",
       "      <td>205.000000</td>\n",
       "      <td>205.000000</td>\n",
       "      <td>205.000000</td>\n",
       "      <td>205.000000</td>\n",
       "      <td>205.000000</td>\n",
       "      <td>205.000000</td>\n",
       "      <td>205.000000</td>\n",
       "      <td>205.000000</td>\n",
       "      <td>...</td>\n",
       "      <td>205.000000</td>\n",
       "      <td>205.000000</td>\n",
       "      <td>205.000000</td>\n",
       "      <td>205.000000</td>\n",
       "      <td>205.000000</td>\n",
       "      <td>205.000000</td>\n",
       "      <td>205.000000</td>\n",
       "      <td>205.000000</td>\n",
       "      <td>205.000000</td>\n",
       "      <td>205.000000</td>\n",
       "    </tr>\n",
       "    <tr>\n",
       "      <th>mean</th>\n",
       "      <td>98.756585</td>\n",
       "      <td>174.049268</td>\n",
       "      <td>65.907805</td>\n",
       "      <td>53.724878</td>\n",
       "      <td>2555.565854</td>\n",
       "      <td>126.907317</td>\n",
       "      <td>3.329756</td>\n",
       "      <td>3.255415</td>\n",
       "      <td>10.142537</td>\n",
       "      <td>104.117073</td>\n",
       "      <td>...</td>\n",
       "      <td>0.004878</td>\n",
       "      <td>0.019512</td>\n",
       "      <td>0.053659</td>\n",
       "      <td>0.321951</td>\n",
       "      <td>0.014634</td>\n",
       "      <td>0.097561</td>\n",
       "      <td>0.004878</td>\n",
       "      <td>0.458537</td>\n",
       "      <td>0.043902</td>\n",
       "      <td>0.004878</td>\n",
       "    </tr>\n",
       "    <tr>\n",
       "      <th>std</th>\n",
       "      <td>6.021776</td>\n",
       "      <td>12.337289</td>\n",
       "      <td>2.145204</td>\n",
       "      <td>2.443522</td>\n",
       "      <td>520.680204</td>\n",
       "      <td>41.642693</td>\n",
       "      <td>0.270844</td>\n",
       "      <td>0.313597</td>\n",
       "      <td>3.972040</td>\n",
       "      <td>39.544167</td>\n",
       "      <td>...</td>\n",
       "      <td>0.069843</td>\n",
       "      <td>0.138655</td>\n",
       "      <td>0.225894</td>\n",
       "      <td>0.468368</td>\n",
       "      <td>0.120377</td>\n",
       "      <td>0.297446</td>\n",
       "      <td>0.069843</td>\n",
       "      <td>0.499498</td>\n",
       "      <td>0.205380</td>\n",
       "      <td>0.069843</td>\n",
       "    </tr>\n",
       "    <tr>\n",
       "      <th>min</th>\n",
       "      <td>86.600000</td>\n",
       "      <td>141.100000</td>\n",
       "      <td>60.300000</td>\n",
       "      <td>47.800000</td>\n",
       "      <td>1488.000000</td>\n",
       "      <td>61.000000</td>\n",
       "      <td>2.540000</td>\n",
       "      <td>2.070000</td>\n",
       "      <td>7.000000</td>\n",
       "      <td>48.000000</td>\n",
       "      <td>...</td>\n",
       "      <td>0.000000</td>\n",
       "      <td>0.000000</td>\n",
       "      <td>0.000000</td>\n",
       "      <td>0.000000</td>\n",
       "      <td>0.000000</td>\n",
       "      <td>0.000000</td>\n",
       "      <td>0.000000</td>\n",
       "      <td>0.000000</td>\n",
       "      <td>0.000000</td>\n",
       "      <td>0.000000</td>\n",
       "    </tr>\n",
       "    <tr>\n",
       "      <th>25%</th>\n",
       "      <td>94.500000</td>\n",
       "      <td>166.300000</td>\n",
       "      <td>64.100000</td>\n",
       "      <td>52.000000</td>\n",
       "      <td>2145.000000</td>\n",
       "      <td>97.000000</td>\n",
       "      <td>3.150000</td>\n",
       "      <td>3.110000</td>\n",
       "      <td>8.600000</td>\n",
       "      <td>70.000000</td>\n",
       "      <td>...</td>\n",
       "      <td>0.000000</td>\n",
       "      <td>0.000000</td>\n",
       "      <td>0.000000</td>\n",
       "      <td>0.000000</td>\n",
       "      <td>0.000000</td>\n",
       "      <td>0.000000</td>\n",
       "      <td>0.000000</td>\n",
       "      <td>0.000000</td>\n",
       "      <td>0.000000</td>\n",
       "      <td>0.000000</td>\n",
       "    </tr>\n",
       "    <tr>\n",
       "      <th>50%</th>\n",
       "      <td>97.000000</td>\n",
       "      <td>173.200000</td>\n",
       "      <td>65.500000</td>\n",
       "      <td>54.100000</td>\n",
       "      <td>2414.000000</td>\n",
       "      <td>120.000000</td>\n",
       "      <td>3.310000</td>\n",
       "      <td>3.290000</td>\n",
       "      <td>9.000000</td>\n",
       "      <td>95.000000</td>\n",
       "      <td>...</td>\n",
       "      <td>0.000000</td>\n",
       "      <td>0.000000</td>\n",
       "      <td>0.000000</td>\n",
       "      <td>0.000000</td>\n",
       "      <td>0.000000</td>\n",
       "      <td>0.000000</td>\n",
       "      <td>0.000000</td>\n",
       "      <td>0.000000</td>\n",
       "      <td>0.000000</td>\n",
       "      <td>0.000000</td>\n",
       "    </tr>\n",
       "    <tr>\n",
       "      <th>75%</th>\n",
       "      <td>102.400000</td>\n",
       "      <td>183.100000</td>\n",
       "      <td>66.900000</td>\n",
       "      <td>55.500000</td>\n",
       "      <td>2935.000000</td>\n",
       "      <td>141.000000</td>\n",
       "      <td>3.580000</td>\n",
       "      <td>3.410000</td>\n",
       "      <td>9.400000</td>\n",
       "      <td>116.000000</td>\n",
       "      <td>...</td>\n",
       "      <td>0.000000</td>\n",
       "      <td>0.000000</td>\n",
       "      <td>0.000000</td>\n",
       "      <td>1.000000</td>\n",
       "      <td>0.000000</td>\n",
       "      <td>0.000000</td>\n",
       "      <td>0.000000</td>\n",
       "      <td>1.000000</td>\n",
       "      <td>0.000000</td>\n",
       "      <td>0.000000</td>\n",
       "    </tr>\n",
       "    <tr>\n",
       "      <th>max</th>\n",
       "      <td>120.900000</td>\n",
       "      <td>208.100000</td>\n",
       "      <td>72.300000</td>\n",
       "      <td>59.800000</td>\n",
       "      <td>4066.000000</td>\n",
       "      <td>326.000000</td>\n",
       "      <td>3.940000</td>\n",
       "      <td>4.170000</td>\n",
       "      <td>23.000000</td>\n",
       "      <td>288.000000</td>\n",
       "      <td>...</td>\n",
       "      <td>1.000000</td>\n",
       "      <td>1.000000</td>\n",
       "      <td>1.000000</td>\n",
       "      <td>1.000000</td>\n",
       "      <td>1.000000</td>\n",
       "      <td>1.000000</td>\n",
       "      <td>1.000000</td>\n",
       "      <td>1.000000</td>\n",
       "      <td>1.000000</td>\n",
       "      <td>1.000000</td>\n",
       "    </tr>\n",
       "  </tbody>\n",
       "</table>\n",
       "<p>8 rows × 205 columns</p>\n",
       "</div>"
      ],
      "text/plain": [
       "        wheelbase   carlength    carwidth   carheight   curbweight  \\\n",
       "count  205.000000  205.000000  205.000000  205.000000   205.000000   \n",
       "mean    98.756585  174.049268   65.907805   53.724878  2555.565854   \n",
       "std      6.021776   12.337289    2.145204    2.443522   520.680204   \n",
       "min     86.600000  141.100000   60.300000   47.800000  1488.000000   \n",
       "25%     94.500000  166.300000   64.100000   52.000000  2145.000000   \n",
       "50%     97.000000  173.200000   65.500000   54.100000  2414.000000   \n",
       "75%    102.400000  183.100000   66.900000   55.500000  2935.000000   \n",
       "max    120.900000  208.100000   72.300000   59.800000  4066.000000   \n",
       "\n",
       "       enginesize   boreratio      stroke  compressionratio  horsepower  ...  \\\n",
       "count  205.000000  205.000000  205.000000        205.000000  205.000000  ...   \n",
       "mean   126.907317    3.329756    3.255415         10.142537  104.117073  ...   \n",
       "std     41.642693    0.270844    0.313597          3.972040   39.544167  ...   \n",
       "min     61.000000    2.540000    2.070000          7.000000   48.000000  ...   \n",
       "25%     97.000000    3.150000    3.110000          8.600000   70.000000  ...   \n",
       "50%    120.000000    3.310000    3.290000          9.000000   95.000000  ...   \n",
       "75%    141.000000    3.580000    3.410000          9.400000  116.000000  ...   \n",
       "max    326.000000    3.940000    4.170000         23.000000  288.000000  ...   \n",
       "\n",
       "       cylindernumber_twelve  cylindernumber_two  fuelsystem_1bbl  \\\n",
       "count             205.000000          205.000000       205.000000   \n",
       "mean                0.004878            0.019512         0.053659   \n",
       "std                 0.069843            0.138655         0.225894   \n",
       "min                 0.000000            0.000000         0.000000   \n",
       "25%                 0.000000            0.000000         0.000000   \n",
       "50%                 0.000000            0.000000         0.000000   \n",
       "75%                 0.000000            0.000000         0.000000   \n",
       "max                 1.000000            1.000000         1.000000   \n",
       "\n",
       "       fuelsystem_2bbl  fuelsystem_4bbl  fuelsystem_idi  fuelsystem_mfi  \\\n",
       "count       205.000000       205.000000      205.000000      205.000000   \n",
       "mean          0.321951         0.014634        0.097561        0.004878   \n",
       "std           0.468368         0.120377        0.297446        0.069843   \n",
       "min           0.000000         0.000000        0.000000        0.000000   \n",
       "25%           0.000000         0.000000        0.000000        0.000000   \n",
       "50%           0.000000         0.000000        0.000000        0.000000   \n",
       "75%           1.000000         0.000000        0.000000        0.000000   \n",
       "max           1.000000         1.000000        1.000000        1.000000   \n",
       "\n",
       "       fuelsystem_mpfi  fuelsystem_spdi  fuelsystem_spfi  \n",
       "count       205.000000       205.000000       205.000000  \n",
       "mean          0.458537         0.043902         0.004878  \n",
       "std           0.499498         0.205380         0.069843  \n",
       "min           0.000000         0.000000         0.000000  \n",
       "25%           0.000000         0.000000         0.000000  \n",
       "50%           0.000000         0.000000         0.000000  \n",
       "75%           1.000000         0.000000         0.000000  \n",
       "max           1.000000         1.000000         1.000000  \n",
       "\n",
       "[8 rows x 205 columns]"
      ]
     },
     "execution_count": 11,
     "metadata": {},
     "output_type": "execute_result"
    }
   ],
   "source": [
    "car_dummies.describe()"
   ]
  },
  {
   "cell_type": "markdown",
   "metadata": {
    "papermill": {
     "duration": 0.036034,
     "end_time": "2021-04-03T21:57:58.580915",
     "exception": false,
     "start_time": "2021-04-03T21:57:58.544881",
     "status": "completed"
    },
    "tags": []
   },
   "source": [
    "<a id=\"5\"></a> <br>\n",
    "## Splitting the Data\n",
    "Splitting data into training and testing data."
   ]
  },
  {
   "cell_type": "code",
   "execution_count": 12,
   "metadata": {
    "execution": {
     "iopub.execute_input": "2021-04-03T21:57:58.661462Z",
     "iopub.status.busy": "2021-04-03T21:57:58.660778Z",
     "iopub.status.idle": "2021-04-03T21:57:58.664295Z",
     "shell.execute_reply": "2021-04-03T21:57:58.663785Z"
    },
    "papermill": {
     "duration": 0.046904,
     "end_time": "2021-04-03T21:57:58.664466",
     "exception": false,
     "start_time": "2021-04-03T21:57:58.617562",
     "status": "completed"
    },
    "tags": []
   },
   "outputs": [],
   "source": [
    "# Training Data\n",
    "np.random.seed(11111) \n",
    "msk = np.random.rand(len(car_dummies)) < 0.72\n",
    "X_train = car_dummies[msk]\n",
    "X_test = car_dummies[~msk]"
   ]
  },
  {
   "cell_type": "code",
   "execution_count": 13,
   "metadata": {
    "execution": {
     "iopub.execute_input": "2021-04-03T21:57:58.743076Z",
     "iopub.status.busy": "2021-04-03T21:57:58.742413Z",
     "iopub.status.idle": "2021-04-03T21:57:58.747299Z",
     "shell.execute_reply": "2021-04-03T21:57:58.746767Z"
    },
    "papermill": {
     "duration": 0.046188,
     "end_time": "2021-04-03T21:57:58.747455",
     "exception": false,
     "start_time": "2021-04-03T21:57:58.701267",
     "status": "completed"
    },
    "tags": []
   },
   "outputs": [
    {
     "name": "stdout",
     "output_type": "stream",
     "text": [
      "141\n",
      "64\n"
     ]
    }
   ],
   "source": [
    "print(len(X_train))\n",
    "print(len(X_test))"
   ]
  },
  {
   "cell_type": "code",
   "execution_count": 14,
   "metadata": {
    "execution": {
     "iopub.execute_input": "2021-04-03T21:57:58.829017Z",
     "iopub.status.busy": "2021-04-03T21:57:58.828333Z",
     "iopub.status.idle": "2021-04-03T21:57:58.831991Z",
     "shell.execute_reply": "2021-04-03T21:57:58.831485Z"
    },
    "papermill": {
     "duration": 0.04765,
     "end_time": "2021-04-03T21:57:58.832147",
     "exception": false,
     "start_time": "2021-04-03T21:57:58.784497",
     "status": "completed"
    },
    "tags": []
   },
   "outputs": [],
   "source": [
    "# Target Data \n",
    "y_train = X_train.pop('price')\n",
    "y_test = X_test.pop('price')"
   ]
  },
  {
   "cell_type": "code",
   "execution_count": 15,
   "metadata": {
    "execution": {
     "iopub.execute_input": "2021-04-03T21:57:58.921182Z",
     "iopub.status.busy": "2021-04-03T21:57:58.916845Z",
     "iopub.status.idle": "2021-04-03T21:57:58.926117Z",
     "shell.execute_reply": "2021-04-03T21:57:58.925557Z"
    },
    "papermill": {
     "duration": 0.05584,
     "end_time": "2021-04-03T21:57:58.926262",
     "exception": false,
     "start_time": "2021-04-03T21:57:58.870422",
     "status": "completed"
    },
    "tags": []
   },
   "outputs": [
    {
     "data": {
      "text/plain": [
       "{0: 'wheelbase',\n",
       " 1: 'carlength',\n",
       " 2: 'carwidth',\n",
       " 3: 'carheight',\n",
       " 4: 'curbweight',\n",
       " 5: 'enginesize',\n",
       " 6: 'boreratio',\n",
       " 7: 'stroke',\n",
       " 8: 'compressionratio',\n",
       " 9: 'horsepower',\n",
       " 10: 'peakrpm',\n",
       " 11: 'citympg',\n",
       " 12: 'highwaympg',\n",
       " 13: 'symboling_-2',\n",
       " 14: 'symboling_-1',\n",
       " 15: 'symboling_0',\n",
       " 16: 'symboling_1',\n",
       " 17: 'symboling_2',\n",
       " 18: 'symboling_3',\n",
       " 19: 'CarName_Nissan versa',\n",
       " 20: 'CarName_alfa-romero Quadrifoglio',\n",
       " 21: 'CarName_alfa-romero giulia',\n",
       " 22: 'CarName_alfa-romero stelvio',\n",
       " 23: 'CarName_audi 100 ls',\n",
       " 24: 'CarName_audi 100ls',\n",
       " 25: 'CarName_audi 4000',\n",
       " 26: 'CarName_audi 5000',\n",
       " 27: 'CarName_audi 5000s (diesel)',\n",
       " 28: 'CarName_audi fox',\n",
       " 29: 'CarName_bmw 320i',\n",
       " 30: 'CarName_bmw x1',\n",
       " 31: 'CarName_bmw x3',\n",
       " 32: 'CarName_bmw x4',\n",
       " 33: 'CarName_bmw x5',\n",
       " 34: 'CarName_bmw z4',\n",
       " 35: 'CarName_buick century',\n",
       " 36: 'CarName_buick century luxus (sw)',\n",
       " 37: 'CarName_buick century special',\n",
       " 38: 'CarName_buick electra 225 custom',\n",
       " 39: 'CarName_buick opel isuzu deluxe',\n",
       " 40: 'CarName_buick regal sport coupe (turbo)',\n",
       " 41: 'CarName_buick skyhawk',\n",
       " 42: 'CarName_buick skylark',\n",
       " 43: 'CarName_chevrolet impala',\n",
       " 44: 'CarName_chevrolet monte carlo',\n",
       " 45: 'CarName_chevrolet vega 2300',\n",
       " 46: 'CarName_dodge challenger se',\n",
       " 47: 'CarName_dodge colt (sw)',\n",
       " 48: 'CarName_dodge colt hardtop',\n",
       " 49: 'CarName_dodge coronet custom',\n",
       " 50: 'CarName_dodge coronet custom (sw)',\n",
       " 51: 'CarName_dodge d200',\n",
       " 52: 'CarName_dodge dart custom',\n",
       " 53: 'CarName_dodge monaco (sw)',\n",
       " 54: 'CarName_dodge rampage',\n",
       " 55: 'CarName_honda accord',\n",
       " 56: 'CarName_honda accord cvcc',\n",
       " 57: 'CarName_honda accord lx',\n",
       " 58: 'CarName_honda civic',\n",
       " 59: 'CarName_honda civic (auto)',\n",
       " 60: 'CarName_honda civic 1300',\n",
       " 61: 'CarName_honda civic 1500 gl',\n",
       " 62: 'CarName_honda civic cvcc',\n",
       " 63: 'CarName_honda prelude',\n",
       " 64: 'CarName_isuzu D-Max ',\n",
       " 65: 'CarName_isuzu D-Max V-Cross',\n",
       " 66: 'CarName_isuzu MU-X',\n",
       " 67: 'CarName_jaguar xf',\n",
       " 68: 'CarName_jaguar xj',\n",
       " 69: 'CarName_jaguar xk',\n",
       " 70: 'CarName_maxda glc deluxe',\n",
       " 71: 'CarName_maxda rx3',\n",
       " 72: 'CarName_mazda 626',\n",
       " 73: 'CarName_mazda glc',\n",
       " 74: 'CarName_mazda glc 4',\n",
       " 75: 'CarName_mazda glc custom',\n",
       " 76: 'CarName_mazda glc custom l',\n",
       " 77: 'CarName_mazda glc deluxe',\n",
       " 78: 'CarName_mazda rx-4',\n",
       " 79: 'CarName_mazda rx-7 gs',\n",
       " 80: 'CarName_mazda rx2 coupe',\n",
       " 81: 'CarName_mercury cougar',\n",
       " 82: 'CarName_mitsubishi g4',\n",
       " 83: 'CarName_mitsubishi lancer',\n",
       " 84: 'CarName_mitsubishi mirage',\n",
       " 85: 'CarName_mitsubishi mirage g4',\n",
       " 86: 'CarName_mitsubishi montero',\n",
       " 87: 'CarName_mitsubishi outlander',\n",
       " 88: 'CarName_mitsubishi pajero',\n",
       " 89: 'CarName_nissan clipper',\n",
       " 90: 'CarName_nissan dayz',\n",
       " 91: 'CarName_nissan fuga',\n",
       " 92: 'CarName_nissan gt-r',\n",
       " 93: 'CarName_nissan juke',\n",
       " 94: 'CarName_nissan kicks',\n",
       " 95: 'CarName_nissan latio',\n",
       " 96: 'CarName_nissan leaf',\n",
       " 97: 'CarName_nissan note',\n",
       " 98: 'CarName_nissan nv200',\n",
       " 99: 'CarName_nissan otti',\n",
       " 100: 'CarName_nissan rogue',\n",
       " 101: 'CarName_nissan teana',\n",
       " 102: 'CarName_nissan titan',\n",
       " 103: 'CarName_peugeot 304',\n",
       " 104: 'CarName_peugeot 504',\n",
       " 105: 'CarName_peugeot 504 (sw)',\n",
       " 106: 'CarName_peugeot 505s turbo diesel',\n",
       " 107: 'CarName_peugeot 604sl',\n",
       " 108: 'CarName_plymouth cricket',\n",
       " 109: 'CarName_plymouth duster',\n",
       " 110: 'CarName_plymouth fury gran sedan',\n",
       " 111: 'CarName_plymouth fury iii',\n",
       " 112: 'CarName_plymouth satellite custom (sw)',\n",
       " 113: 'CarName_plymouth valiant',\n",
       " 114: 'CarName_porcshce panamera',\n",
       " 115: 'CarName_porsche boxter',\n",
       " 116: 'CarName_porsche cayenne',\n",
       " 117: 'CarName_porsche macan',\n",
       " 118: 'CarName_renault 12tl',\n",
       " 119: 'CarName_renault 5 gtl',\n",
       " 120: 'CarName_saab 99e',\n",
       " 121: 'CarName_saab 99gle',\n",
       " 122: 'CarName_saab 99le',\n",
       " 123: 'CarName_subaru',\n",
       " 124: 'CarName_subaru baja',\n",
       " 125: 'CarName_subaru brz',\n",
       " 126: 'CarName_subaru dl',\n",
       " 127: 'CarName_subaru r1',\n",
       " 128: 'CarName_subaru r2',\n",
       " 129: 'CarName_subaru trezia',\n",
       " 130: 'CarName_subaru tribeca',\n",
       " 131: 'CarName_toyota carina',\n",
       " 132: 'CarName_toyota celica gt',\n",
       " 133: 'CarName_toyota celica gt liftback',\n",
       " 134: 'CarName_toyota corolla',\n",
       " 135: 'CarName_toyota corolla 1200',\n",
       " 136: 'CarName_toyota corolla 1600 (sw)',\n",
       " 137: 'CarName_toyota corolla liftback',\n",
       " 138: 'CarName_toyota corolla tercel',\n",
       " 139: 'CarName_toyota corona',\n",
       " 140: 'CarName_toyota corona hardtop',\n",
       " 141: 'CarName_toyota corona liftback',\n",
       " 142: 'CarName_toyota corona mark ii',\n",
       " 143: 'CarName_toyota cressida',\n",
       " 144: 'CarName_toyota mark ii',\n",
       " 145: 'CarName_toyota starlet',\n",
       " 146: 'CarName_toyota tercel',\n",
       " 147: 'CarName_toyouta tercel',\n",
       " 148: 'CarName_vokswagen rabbit',\n",
       " 149: 'CarName_volkswagen 1131 deluxe sedan',\n",
       " 150: 'CarName_volkswagen 411 (sw)',\n",
       " 151: 'CarName_volkswagen dasher',\n",
       " 152: 'CarName_volkswagen model 111',\n",
       " 153: 'CarName_volkswagen rabbit',\n",
       " 154: 'CarName_volkswagen rabbit custom',\n",
       " 155: 'CarName_volkswagen super beetle',\n",
       " 156: 'CarName_volkswagen type 3',\n",
       " 157: 'CarName_volvo 144ea',\n",
       " 158: 'CarName_volvo 145e (sw)',\n",
       " 159: 'CarName_volvo 244dl',\n",
       " 160: 'CarName_volvo 245',\n",
       " 161: 'CarName_volvo 246',\n",
       " 162: 'CarName_volvo 264gl',\n",
       " 163: 'CarName_volvo diesel',\n",
       " 164: 'CarName_vw dasher',\n",
       " 165: 'CarName_vw rabbit',\n",
       " 166: 'fueltype_diesel',\n",
       " 167: 'fueltype_gas',\n",
       " 168: 'aspiration_std',\n",
       " 169: 'aspiration_turbo',\n",
       " 170: 'doornumber_four',\n",
       " 171: 'doornumber_two',\n",
       " 172: 'carbody_convertible',\n",
       " 173: 'carbody_hardtop',\n",
       " 174: 'carbody_hatchback',\n",
       " 175: 'carbody_sedan',\n",
       " 176: 'carbody_wagon',\n",
       " 177: 'drivewheel_4wd',\n",
       " 178: 'drivewheel_fwd',\n",
       " 179: 'drivewheel_rwd',\n",
       " 180: 'enginelocation_front',\n",
       " 181: 'enginelocation_rear',\n",
       " 182: 'enginetype_dohc',\n",
       " 183: 'enginetype_dohcv',\n",
       " 184: 'enginetype_l',\n",
       " 185: 'enginetype_ohc',\n",
       " 186: 'enginetype_ohcf',\n",
       " 187: 'enginetype_ohcv',\n",
       " 188: 'enginetype_rotor',\n",
       " 189: 'cylindernumber_eight',\n",
       " 190: 'cylindernumber_five',\n",
       " 191: 'cylindernumber_four',\n",
       " 192: 'cylindernumber_six',\n",
       " 193: 'cylindernumber_three',\n",
       " 194: 'cylindernumber_twelve',\n",
       " 195: 'cylindernumber_two',\n",
       " 196: 'fuelsystem_1bbl',\n",
       " 197: 'fuelsystem_2bbl',\n",
       " 198: 'fuelsystem_4bbl',\n",
       " 199: 'fuelsystem_idi',\n",
       " 200: 'fuelsystem_mfi',\n",
       " 201: 'fuelsystem_mpfi',\n",
       " 202: 'fuelsystem_spdi',\n",
       " 203: 'fuelsystem_spfi'}"
      ]
     },
     "execution_count": 15,
     "metadata": {},
     "output_type": "execute_result"
    }
   ],
   "source": [
    "{X_train.columns.get_loc(c): c for idx, c in enumerate(X_train.columns)}"
   ]
  },
  {
   "cell_type": "markdown",
   "metadata": {
    "papermill": {
     "duration": 0.037608,
     "end_time": "2021-04-03T21:57:59.003217",
     "exception": false,
     "start_time": "2021-04-03T21:57:58.965609",
     "status": "completed"
    },
    "tags": []
   },
   "source": [
    "<a id=\"6\"></a> <br>\n",
    "## Normalizing the Data\n",
    "Here we are normalizing data by subtracting data by mean of the data and then dividing by standard deviation of the data."
   ]
  },
  {
   "cell_type": "code",
   "execution_count": 16,
   "metadata": {
    "execution": {
     "iopub.execute_input": "2021-04-03T21:57:59.087999Z",
     "iopub.status.busy": "2021-04-03T21:57:59.087045Z",
     "iopub.status.idle": "2021-04-03T21:57:59.134191Z",
     "shell.execute_reply": "2021-04-03T21:57:59.135082Z"
    },
    "papermill": {
     "duration": 0.094279,
     "end_time": "2021-04-03T21:57:59.135315",
     "exception": false,
     "start_time": "2021-04-03T21:57:59.041036",
     "status": "completed"
    },
    "tags": []
   },
   "outputs": [
    {
     "name": "stderr",
     "output_type": "stream",
     "text": [
      "/opt/conda/lib/python3.7/site-packages/pandas/core/indexing.py:1753: SettingWithCopyWarning: \n",
      "A value is trying to be set on a copy of a slice from a DataFrame.\n",
      "Try using .loc[row_indexer,col_indexer] = value instead\n",
      "\n",
      "See the caveats in the documentation: https://pandas.pydata.org/pandas-docs/stable/user_guide/indexing.html#returning-a-view-versus-a-copy\n",
      "  self._setitem_single_column(loc, val, pi)\n"
     ]
    }
   ],
   "source": [
    "X_mean = X_train.iloc[:,0:13].mean(axis=0) # taking mean of training data\n",
    "X_train.iloc[:,0:13] -= X_mean # subtracting the mean from training data\n",
    "X_std = X_train.iloc[:,0:13].std(axis=0) # taking std of training data\n",
    "X_train.iloc[:,0:13] /= X_std # dividing train data by std\n",
    "X_test.iloc[:,0:13] -= X_mean # subrating the mean from testing data\n",
    "X_test.iloc[:,0:13] /= X_std # dividing test data by std"
   ]
  },
  {
   "cell_type": "code",
   "execution_count": 17,
   "metadata": {
    "execution": {
     "iopub.execute_input": "2021-04-03T21:57:59.217886Z",
     "iopub.status.busy": "2021-04-03T21:57:59.217219Z",
     "iopub.status.idle": "2021-04-03T21:57:59.223041Z",
     "shell.execute_reply": "2021-04-03T21:57:59.223575Z"
    },
    "papermill": {
     "duration": 0.047911,
     "end_time": "2021-04-03T21:57:59.223761",
     "exception": false,
     "start_time": "2021-04-03T21:57:59.175850",
     "status": "completed"
    },
    "tags": []
   },
   "outputs": [],
   "source": [
    "y_mean = y_train.mean() \n",
    "y_train -= y_mean\n",
    "y_std = y_train.std()\n",
    "y_train /= y_std\n",
    "y_test -= y_mean\n",
    "y_test /= y_std"
   ]
  },
  {
   "cell_type": "markdown",
   "metadata": {
    "papermill": {
     "duration": 0.038617,
     "end_time": "2021-04-03T21:57:59.300945",
     "exception": false,
     "start_time": "2021-04-03T21:57:59.262328",
     "status": "completed"
    },
    "tags": []
   },
   "source": [
    "### Changing Data Type To Float"
   ]
  },
  {
   "cell_type": "code",
   "execution_count": 18,
   "metadata": {
    "execution": {
     "iopub.execute_input": "2021-04-03T21:57:59.382946Z",
     "iopub.status.busy": "2021-04-03T21:57:59.381990Z",
     "iopub.status.idle": "2021-04-03T21:57:59.389815Z",
     "shell.execute_reply": "2021-04-03T21:57:59.389136Z"
    },
    "papermill": {
     "duration": 0.049217,
     "end_time": "2021-04-03T21:57:59.389956",
     "exception": false,
     "start_time": "2021-04-03T21:57:59.340739",
     "status": "completed"
    },
    "tags": []
   },
   "outputs": [],
   "source": [
    "X_train = np.asarray(X_train).astype(float)\n",
    "X_test = np.asarray(X_test).astype(float)\n",
    "\n",
    "y_train = np.asarray(y_train).astype(float)\n",
    "y_test = np.asarray(y_test).astype(float)"
   ]
  },
  {
   "cell_type": "code",
   "execution_count": 19,
   "metadata": {
    "execution": {
     "iopub.execute_input": "2021-04-03T21:57:59.471063Z",
     "iopub.status.busy": "2021-04-03T21:57:59.470115Z",
     "iopub.status.idle": "2021-04-03T21:57:59.475941Z",
     "shell.execute_reply": "2021-04-03T21:57:59.476438Z"
    },
    "papermill": {
     "duration": 0.048174,
     "end_time": "2021-04-03T21:57:59.476605",
     "exception": false,
     "start_time": "2021-04-03T21:57:59.428431",
     "status": "completed"
    },
    "tags": []
   },
   "outputs": [
    {
     "name": "stdout",
     "output_type": "stream",
     "text": [
      "141\n",
      "141\n",
      "64\n",
      "64\n"
     ]
    }
   ],
   "source": [
    "print(len(X_train))\n",
    "print(len(y_train))\n",
    "print(len(X_test))\n",
    "print(len(y_test))"
   ]
  },
  {
   "cell_type": "markdown",
   "metadata": {
    "papermill": {
     "duration": 0.038783,
     "end_time": "2021-04-03T21:57:59.554246",
     "exception": false,
     "start_time": "2021-04-03T21:57:59.515463",
     "status": "completed"
    },
    "tags": []
   },
   "source": [
    "<a id=\"7\"></a> <br>\n",
    "## Building a Model"
   ]
  },
  {
   "cell_type": "code",
   "execution_count": 20,
   "metadata": {
    "execution": {
     "iopub.execute_input": "2021-04-03T21:57:59.643471Z",
     "iopub.status.busy": "2021-04-03T21:57:59.642478Z",
     "iopub.status.idle": "2021-04-03T21:57:59.651546Z",
     "shell.execute_reply": "2021-04-03T21:57:59.650820Z"
    },
    "papermill": {
     "duration": 0.052591,
     "end_time": "2021-04-03T21:57:59.651701",
     "exception": false,
     "start_time": "2021-04-03T21:57:59.599110",
     "status": "completed"
    },
    "tags": []
   },
   "outputs": [],
   "source": [
    "def build_model():\n",
    "    model = Sequential()\n",
    "    model.add(Dense(80 , activation='relu', input_shape=(X_train.shape[-1],))) # Input Layer\n",
    "    model.add(Dropout(0.5)) # Dropout Layer\n",
    "    model.add(Dense(40 , activation='relu'))\n",
    "    model.add(Dropout(0.5)) # Dropout Layer\n",
    "    model.add(Dense(20 , activation='relu'))\n",
    "    model.add(Dropout(0.5)) # Dropout Layer\n",
    "    model.add(Dense(10 , activation='relu'))\n",
    "    model.add(Dense(1))\n",
    "    model.compile(optimizer='rmsprop', loss='mse', metrics=['mae']) # Compiling Model\n",
    "    return model"
   ]
  },
  {
   "cell_type": "markdown",
   "metadata": {
    "papermill": {
     "duration": 0.039549,
     "end_time": "2021-04-03T21:57:59.731014",
     "exception": false,
     "start_time": "2021-04-03T21:57:59.691465",
     "status": "completed"
    },
    "tags": []
   },
   "source": [
    "**Note** the network with the mse loss function—mean squared error,\n",
    "the square of the difference between the predictions and the targets. This is a widely\n",
    "used loss function for regression problems."
   ]
  },
  {
   "cell_type": "code",
   "execution_count": 21,
   "metadata": {
    "execution": {
     "iopub.execute_input": "2021-04-03T21:57:59.815590Z",
     "iopub.status.busy": "2021-04-03T21:57:59.814904Z",
     "iopub.status.idle": "2021-04-03T21:57:59.948919Z",
     "shell.execute_reply": "2021-04-03T21:57:59.948046Z"
    },
    "papermill": {
     "duration": 0.178581,
     "end_time": "2021-04-03T21:57:59.949137",
     "exception": false,
     "start_time": "2021-04-03T21:57:59.770556",
     "status": "completed"
    },
    "tags": []
   },
   "outputs": [
    {
     "name": "stdout",
     "output_type": "stream",
     "text": [
      "Model: \"sequential\"\n",
      "_________________________________________________________________\n",
      "Layer (type)                 Output Shape              Param #   \n",
      "=================================================================\n",
      "dense (Dense)                (None, 80)                16400     \n",
      "_________________________________________________________________\n",
      "dropout (Dropout)            (None, 80)                0         \n",
      "_________________________________________________________________\n",
      "dense_1 (Dense)              (None, 40)                3240      \n",
      "_________________________________________________________________\n",
      "dropout_1 (Dropout)          (None, 40)                0         \n",
      "_________________________________________________________________\n",
      "dense_2 (Dense)              (None, 20)                820       \n",
      "_________________________________________________________________\n",
      "dropout_2 (Dropout)          (None, 20)                0         \n",
      "_________________________________________________________________\n",
      "dense_3 (Dense)              (None, 10)                210       \n",
      "_________________________________________________________________\n",
      "dense_4 (Dense)              (None, 1)                 11        \n",
      "=================================================================\n",
      "Total params: 20,681\n",
      "Trainable params: 20,681\n",
      "Non-trainable params: 0\n",
      "_________________________________________________________________\n"
     ]
    }
   ],
   "source": [
    "build_model().summary()"
   ]
  },
  {
   "cell_type": "markdown",
   "metadata": {
    "papermill": {
     "duration": 0.040009,
     "end_time": "2021-04-03T21:58:00.030252",
     "exception": false,
     "start_time": "2021-04-03T21:57:59.990243",
     "status": "completed"
    },
    "tags": []
   },
   "source": [
    "<a id=\"8\"></a> <br>\n",
    "## K- Fold Validation"
   ]
  },
  {
   "cell_type": "code",
   "execution_count": 22,
   "metadata": {
    "execution": {
     "iopub.execute_input": "2021-04-03T21:58:00.123192Z",
     "iopub.status.busy": "2021-04-03T21:58:00.118319Z",
     "iopub.status.idle": "2021-04-03T21:58:44.596581Z",
     "shell.execute_reply": "2021-04-03T21:58:44.595996Z"
    },
    "papermill": {
     "duration": 44.526363,
     "end_time": "2021-04-03T21:58:44.596788",
     "exception": false,
     "start_time": "2021-04-03T21:58:00.070425",
     "status": "completed"
    },
    "tags": []
   },
   "outputs": [
    {
     "name": "stdout",
     "output_type": "stream",
     "text": [
      "processing fold # 0\n",
      "processing fold # 1\n",
      "processing fold # 2\n",
      "processing fold # 3\n"
     ]
    }
   ],
   "source": [
    "import numpy as np\n",
    "k =  4 # no of folds\n",
    "num_val_samples = len(X_train) // k\n",
    "num_epochs = 100\n",
    "all_scores_relu = []\n",
    "for i in range(k):\n",
    "    print('processing fold #', i)\n",
    "    val_X = X_train[i * num_val_samples: (i + 1) * num_val_samples]\n",
    "    val_y = y_train[i * num_val_samples: (i + 1) * num_val_samples]\n",
    "    partial_train_data = np.concatenate([X_train[:i * num_val_samples],X_train[(i + 1) * num_val_samples:]],  axis=0)\n",
    "    # print(partial_train_data)\n",
    "    partial_train_targets = np.concatenate([y_train[:i * num_val_samples],y_train[(i + 1) * num_val_samples:]],axis=0)\n",
    "    model = build_model()\n",
    "    model.fit(partial_train_data, partial_train_targets,epochs=num_epochs, batch_size=1, verbose=0)\n",
    "    val_mse, val_mae = model.evaluate(val_X, val_y, verbose=0)\n",
    "    all_scores_relu.append(val_mae)"
   ]
  },
  {
   "cell_type": "markdown",
   "metadata": {
    "papermill": {
     "duration": 0.040811,
     "end_time": "2021-04-03T21:58:44.678855",
     "exception": false,
     "start_time": "2021-04-03T21:58:44.638044",
     "status": "completed"
    },
    "tags": []
   },
   "source": [
    "##### Validation MSE"
   ]
  },
  {
   "cell_type": "code",
   "execution_count": 23,
   "metadata": {
    "execution": {
     "iopub.execute_input": "2021-04-03T21:58:44.764203Z",
     "iopub.status.busy": "2021-04-03T21:58:44.763511Z",
     "iopub.status.idle": "2021-04-03T21:58:44.770006Z",
     "shell.execute_reply": "2021-04-03T21:58:44.770519Z"
    },
    "papermill": {
     "duration": 0.050936,
     "end_time": "2021-04-03T21:58:44.770689",
     "exception": false,
     "start_time": "2021-04-03T21:58:44.719753",
     "status": "completed"
    },
    "tags": []
   },
   "outputs": [
    {
     "data": {
      "text/plain": [
       "0.05872998386621475"
      ]
     },
     "execution_count": 23,
     "metadata": {},
     "output_type": "execute_result"
    }
   ],
   "source": [
    "val_mse"
   ]
  },
  {
   "cell_type": "code",
   "execution_count": 24,
   "metadata": {
    "execution": {
     "iopub.execute_input": "2021-04-03T21:58:44.860248Z",
     "iopub.status.busy": "2021-04-03T21:58:44.859581Z",
     "iopub.status.idle": "2021-04-03T21:58:44.865771Z",
     "shell.execute_reply": "2021-04-03T21:58:44.866273Z"
    },
    "papermill": {
     "duration": 0.053967,
     "end_time": "2021-04-03T21:58:44.866475",
     "exception": false,
     "start_time": "2021-04-03T21:58:44.812508",
     "status": "completed"
    },
    "tags": []
   },
   "outputs": [
    {
     "data": {
      "text/plain": [
       "[0.44457826018333435,\n",
       " 0.5539795756340027,\n",
       " 0.47394949197769165,\n",
       " 0.1863839328289032]"
      ]
     },
     "execution_count": 24,
     "metadata": {},
     "output_type": "execute_result"
    }
   ],
   "source": [
    "all_scores_relu"
   ]
  },
  {
   "cell_type": "markdown",
   "metadata": {
    "papermill": {
     "duration": 0.042277,
     "end_time": "2021-04-03T21:58:44.951262",
     "exception": false,
     "start_time": "2021-04-03T21:58:44.908985",
     "status": "completed"
    },
    "tags": []
   },
   "source": [
    "<a id=\"9\"></a> <br>\n",
    "## Training\n",
    "Here we will call model and train on the training data and evaluate on the test data."
   ]
  },
  {
   "cell_type": "code",
   "execution_count": 25,
   "metadata": {
    "execution": {
     "iopub.execute_input": "2021-04-03T21:58:45.040351Z",
     "iopub.status.busy": "2021-04-03T21:58:45.039715Z",
     "iopub.status.idle": "2021-04-03T21:58:56.741465Z",
     "shell.execute_reply": "2021-04-03T21:58:56.740890Z"
    },
    "papermill": {
     "duration": 11.748188,
     "end_time": "2021-04-03T21:58:56.741639",
     "exception": false,
     "start_time": "2021-04-03T21:58:44.993451",
     "status": "completed"
    },
    "tags": []
   },
   "outputs": [
    {
     "name": "stdout",
     "output_type": "stream",
     "text": [
      "2/2 [==============================] - 0s 3ms/step - loss: 0.2472 - mae: 0.3689\n"
     ]
    }
   ],
   "source": [
    "model_relu = build_model()\n",
    "model_relu.fit(X_train, y_train,epochs= 80, batch_size=1, verbose=0)\n",
    "test_mse_score, test_mae_score = model_relu.evaluate(X_test, y_test)"
   ]
  },
  {
   "cell_type": "markdown",
   "metadata": {
    "papermill": {
     "duration": 0.042545,
     "end_time": "2021-04-03T21:58:56.827559",
     "exception": false,
     "start_time": "2021-04-03T21:58:56.785014",
     "status": "completed"
    },
    "tags": []
   },
   "source": [
    "<a id=\"10\"></a> <br>\n",
    "## Model Evaluation"
   ]
  },
  {
   "cell_type": "code",
   "execution_count": 26,
   "metadata": {
    "execution": {
     "iopub.execute_input": "2021-04-03T21:58:56.920743Z",
     "iopub.status.busy": "2021-04-03T21:58:56.919751Z",
     "iopub.status.idle": "2021-04-03T21:58:56.924242Z",
     "shell.execute_reply": "2021-04-03T21:58:56.924807Z"
    },
    "papermill": {
     "duration": 0.054486,
     "end_time": "2021-04-03T21:58:56.924984",
     "exception": false,
     "start_time": "2021-04-03T21:58:56.870498",
     "status": "completed"
    },
    "tags": []
   },
   "outputs": [
    {
     "data": {
      "text/plain": [
       "0.24718722701072693"
      ]
     },
     "execution_count": 26,
     "metadata": {},
     "output_type": "execute_result"
    }
   ],
   "source": [
    "# MSE Score\n",
    "test_mse_score"
   ]
  },
  {
   "cell_type": "code",
   "execution_count": 27,
   "metadata": {
    "execution": {
     "iopub.execute_input": "2021-04-03T21:58:57.018054Z",
     "iopub.status.busy": "2021-04-03T21:58:57.016983Z",
     "iopub.status.idle": "2021-04-03T21:58:57.021845Z",
     "shell.execute_reply": "2021-04-03T21:58:57.022473Z"
    },
    "papermill": {
     "duration": 0.053727,
     "end_time": "2021-04-03T21:58:57.022668",
     "exception": false,
     "start_time": "2021-04-03T21:58:56.968941",
     "status": "completed"
    },
    "tags": []
   },
   "outputs": [
    {
     "data": {
      "text/plain": [
       "0.3689236640930176"
      ]
     },
     "execution_count": 27,
     "metadata": {},
     "output_type": "execute_result"
    }
   ],
   "source": [
    "# MAE Score\n",
    "test_mae_score"
   ]
  },
  {
   "cell_type": "markdown",
   "metadata": {
    "papermill": {
     "duration": 0.0437,
     "end_time": "2021-04-03T21:58:57.111242",
     "exception": false,
     "start_time": "2021-04-03T21:58:57.067542",
     "status": "completed"
    },
    "tags": []
   },
   "source": [
    "<a id=\"11\"></a> <br>\n",
    "## Prediction"
   ]
  },
  {
   "cell_type": "code",
   "execution_count": 28,
   "metadata": {
    "execution": {
     "iopub.execute_input": "2021-04-03T21:58:57.206185Z",
     "iopub.status.busy": "2021-04-03T21:58:57.205550Z",
     "iopub.status.idle": "2021-04-03T21:58:57.333809Z",
     "shell.execute_reply": "2021-04-03T21:58:57.333098Z"
    },
    "papermill": {
     "duration": 0.178448,
     "end_time": "2021-04-03T21:58:57.333956",
     "exception": false,
     "start_time": "2021-04-03T21:58:57.155508",
     "status": "completed"
    },
    "tags": []
   },
   "outputs": [],
   "source": [
    "x_relu = model_relu.predict(X_test[5].reshape(1,X_test.shape[1]))"
   ]
  },
  {
   "cell_type": "markdown",
   "metadata": {
    "papermill": {
     "duration": 0.04339,
     "end_time": "2021-04-03T21:58:57.421687",
     "exception": false,
     "start_time": "2021-04-03T21:58:57.378297",
     "status": "completed"
    },
    "tags": []
   },
   "source": [
    " **Note** that here we will use the reverse process of Normalization to retrieve our values of price in thousand of dollars i.e. x = (y - mean)/ std ==>> we will calculate y = x * std + mean and then we will compare it with our target values."
   ]
  },
  {
   "cell_type": "code",
   "execution_count": 29,
   "metadata": {
    "execution": {
     "iopub.execute_input": "2021-04-03T21:58:57.512914Z",
     "iopub.status.busy": "2021-04-03T21:58:57.512176Z",
     "iopub.status.idle": "2021-04-03T21:58:57.518599Z",
     "shell.execute_reply": "2021-04-03T21:58:57.518029Z"
    },
    "papermill": {
     "duration": 0.052876,
     "end_time": "2021-04-03T21:58:57.518742",
     "exception": false,
     "start_time": "2021-04-03T21:58:57.465866",
     "status": "completed"
    },
    "tags": []
   },
   "outputs": [
    {
     "data": {
      "text/plain": [
       "array([[10424.113]], dtype=float32)"
      ]
     },
     "execution_count": 29,
     "metadata": {},
     "output_type": "execute_result"
    }
   ],
   "source": [
    "x_relu * y_std + y_mean"
   ]
  },
  {
   "cell_type": "markdown",
   "metadata": {
    "papermill": {
     "duration": 0.057385,
     "end_time": "2021-04-03T21:58:57.620574",
     "exception": false,
     "start_time": "2021-04-03T21:58:57.563189",
     "status": "completed"
    },
    "tags": []
   },
   "source": [
    "### Actual Value"
   ]
  },
  {
   "cell_type": "code",
   "execution_count": 30,
   "metadata": {
    "execution": {
     "iopub.execute_input": "2021-04-03T21:58:57.733765Z",
     "iopub.status.busy": "2021-04-03T21:58:57.732943Z",
     "iopub.status.idle": "2021-04-03T21:58:57.739363Z",
     "shell.execute_reply": "2021-04-03T21:58:57.738861Z"
    },
    "papermill": {
     "duration": 0.063048,
     "end_time": "2021-04-03T21:58:57.739544",
     "exception": false,
     "start_time": "2021-04-03T21:58:57.676496",
     "status": "completed"
    },
    "tags": []
   },
   "outputs": [
    {
     "data": {
      "text/plain": [
       "7609.0"
      ]
     },
     "execution_count": 30,
     "metadata": {},
     "output_type": "execute_result"
    }
   ],
   "source": [
    " y_test[5] * y_std + y_mean "
   ]
  },
  {
   "cell_type": "markdown",
   "metadata": {
    "papermill": {
     "duration": 0.045281,
     "end_time": "2021-04-03T21:58:57.831248",
     "exception": false,
     "start_time": "2021-04-03T21:58:57.785967",
     "status": "completed"
    },
    "tags": []
   },
   "source": [
    "### If this Kernel helped you in any way, some <span style=\"color:red\">UPVOTES !!!</span> would be very much appreciated."
   ]
  }
 ],
 "metadata": {
  "kernelspec": {
   "display_name": "Python 3",
   "language": "python",
   "name": "python3"
  },
  "language_info": {
   "codemirror_mode": {
    "name": "ipython",
    "version": 3
   },
   "file_extension": ".py",
   "mimetype": "text/x-python",
   "name": "python",
   "nbconvert_exporter": "python",
   "pygments_lexer": "ipython3",
   "version": "3.7.9"
  },
  "papermill": {
   "default_parameters": {},
   "duration": 77.718714,
   "end_time": "2021-04-03T21:58:59.089159",
   "environment_variables": {},
   "exception": null,
   "input_path": "__notebook__.ipynb",
   "output_path": "__notebook__.ipynb",
   "parameters": {},
   "start_time": "2021-04-03T21:57:41.370445",
   "version": "2.2.2"
  }
 },
 "nbformat": 4,
 "nbformat_minor": 4
}
