{
 "cells": [
  {
   "cell_type": "markdown",
   "id": "complimentary-supervision",
   "metadata": {
    "papermill": {
     "duration": 0.0294,
     "end_time": "2021-04-08T22:13:51.093976",
     "exception": false,
     "start_time": "2021-04-08T22:13:51.064576",
     "status": "completed"
    },
    "tags": []
   },
   "source": [
    "# Credit Card Fraud Detection Using Tensorflow/Keras"
   ]
  },
  {
   "cell_type": "markdown",
   "id": "visible-defensive",
   "metadata": {
    "papermill": {
     "duration": 0.032187,
     "end_time": "2021-04-08T22:13:51.153294",
     "exception": false,
     "start_time": "2021-04-08T22:13:51.121107",
     "status": "completed"
    },
    "tags": []
   },
   "source": [
    "#### Below are the steps which we will be basically following:\n",
    "1. Cleaning the Data\n",
    "2. Undersampling the Data\n",
    "3. Splitting the Data\n",
    "4. Building a Multilayer Neural Network with Keras\n",
    "5. Compiling\n",
    "6. Training\n",
    "7. Prediction \n",
    "8. Score"
   ]
  },
  {
   "cell_type": "markdown",
   "id": "varied-folder",
   "metadata": {
    "papermill": {
     "duration": 0.027791,
     "end_time": "2021-04-08T22:13:51.211766",
     "exception": false,
     "start_time": "2021-04-08T22:13:51.183975",
     "status": "completed"
    },
    "tags": []
   },
   "source": [
    "# Setting-up Envoirnment "
   ]
  },
  {
   "cell_type": "markdown",
   "id": "floating-reserve",
   "metadata": {
    "papermill": {
     "duration": 0.033157,
     "end_time": "2021-04-08T22:13:51.275773",
     "exception": false,
     "start_time": "2021-04-08T22:13:51.242616",
     "status": "completed"
    },
    "tags": []
   },
   "source": [
    "Firstly, we will import all the required libraries."
   ]
  },
  {
   "cell_type": "code",
   "execution_count": 1,
   "id": "endless-mapping",
   "metadata": {
    "_cell_guid": "b1076dfc-b9ad-4769-8c92-a6c4dae69d19",
    "_uuid": "8f2839f25d086af736a60e9eeb907d3b93b6e0e5",
    "execution": {
     "iopub.execute_input": "2021-04-08T22:13:51.349122Z",
     "iopub.status.busy": "2021-04-08T22:13:51.347759Z",
     "iopub.status.idle": "2021-04-08T22:13:52.495659Z",
     "shell.execute_reply": "2021-04-08T22:13:52.496242Z"
    },
    "papermill": {
     "duration": 1.186862,
     "end_time": "2021-04-08T22:13:52.496621",
     "exception": false,
     "start_time": "2021-04-08T22:13:51.309759",
     "status": "completed"
    },
    "tags": []
   },
   "outputs": [],
   "source": [
    "import numpy as np # linear algebra\n",
    "import pandas as pd # data processing, CSV file I/O (e.g. pd.read_csv)\n",
    "import matplotlib.pyplot as plt\n",
    "import seaborn as sns\n",
    "import os\n",
    "plt.rcParams['figure.figsize']=(12,5)\n",
    "import warnings\n",
    "warnings.filterwarnings(\"ignore\")"
   ]
  },
  {
   "cell_type": "markdown",
   "id": "legendary-special",
   "metadata": {
    "papermill": {
     "duration": 0.030243,
     "end_time": "2021-04-08T22:13:52.560609",
     "exception": false,
     "start_time": "2021-04-08T22:13:52.530366",
     "status": "completed"
    },
    "tags": []
   },
   "source": [
    "<a id=\"1\"></a> <br>\n",
    "## Loading Data"
   ]
  },
  {
   "cell_type": "code",
   "execution_count": 2,
   "id": "theoretical-morrison",
   "metadata": {
    "execution": {
     "iopub.execute_input": "2021-04-08T22:13:52.623761Z",
     "iopub.status.busy": "2021-04-08T22:13:52.623078Z",
     "iopub.status.idle": "2021-04-08T22:13:57.540061Z",
     "shell.execute_reply": "2021-04-08T22:13:57.540587Z"
    },
    "papermill": {
     "duration": 4.950457,
     "end_time": "2021-04-08T22:13:57.540790",
     "exception": false,
     "start_time": "2021-04-08T22:13:52.590333",
     "status": "completed"
    },
    "tags": []
   },
   "outputs": [],
   "source": [
    "df_card = pd.read_csv(\"../input/creditcardfraud/creditcard.csv\")"
   ]
  },
  {
   "cell_type": "code",
   "execution_count": 3,
   "id": "focused-jurisdiction",
   "metadata": {
    "execution": {
     "iopub.execute_input": "2021-04-08T22:13:57.605686Z",
     "iopub.status.busy": "2021-04-08T22:13:57.604873Z",
     "iopub.status.idle": "2021-04-08T22:13:57.661261Z",
     "shell.execute_reply": "2021-04-08T22:13:57.661785Z"
    },
    "papermill": {
     "duration": 0.092391,
     "end_time": "2021-04-08T22:13:57.662321",
     "exception": false,
     "start_time": "2021-04-08T22:13:57.569930",
     "status": "completed"
    },
    "tags": []
   },
   "outputs": [
    {
     "data": {
      "text/html": [
       "<div>\n",
       "<style scoped>\n",
       "    .dataframe tbody tr th:only-of-type {\n",
       "        vertical-align: middle;\n",
       "    }\n",
       "\n",
       "    .dataframe tbody tr th {\n",
       "        vertical-align: top;\n",
       "    }\n",
       "\n",
       "    .dataframe thead th {\n",
       "        text-align: right;\n",
       "    }\n",
       "</style>\n",
       "<table border=\"1\" class=\"dataframe\">\n",
       "  <thead>\n",
       "    <tr style=\"text-align: right;\">\n",
       "      <th></th>\n",
       "      <th>Time</th>\n",
       "      <th>V1</th>\n",
       "      <th>V2</th>\n",
       "      <th>V3</th>\n",
       "      <th>V4</th>\n",
       "      <th>V5</th>\n",
       "      <th>V6</th>\n",
       "      <th>V7</th>\n",
       "      <th>V8</th>\n",
       "      <th>V9</th>\n",
       "      <th>...</th>\n",
       "      <th>V21</th>\n",
       "      <th>V22</th>\n",
       "      <th>V23</th>\n",
       "      <th>V24</th>\n",
       "      <th>V25</th>\n",
       "      <th>V26</th>\n",
       "      <th>V27</th>\n",
       "      <th>V28</th>\n",
       "      <th>Amount</th>\n",
       "      <th>Class</th>\n",
       "    </tr>\n",
       "  </thead>\n",
       "  <tbody>\n",
       "    <tr>\n",
       "      <th>0</th>\n",
       "      <td>0.0</td>\n",
       "      <td>-1.359807</td>\n",
       "      <td>-0.072781</td>\n",
       "      <td>2.536347</td>\n",
       "      <td>1.378155</td>\n",
       "      <td>-0.338321</td>\n",
       "      <td>0.462388</td>\n",
       "      <td>0.239599</td>\n",
       "      <td>0.098698</td>\n",
       "      <td>0.363787</td>\n",
       "      <td>...</td>\n",
       "      <td>-0.018307</td>\n",
       "      <td>0.277838</td>\n",
       "      <td>-0.110474</td>\n",
       "      <td>0.066928</td>\n",
       "      <td>0.128539</td>\n",
       "      <td>-0.189115</td>\n",
       "      <td>0.133558</td>\n",
       "      <td>-0.021053</td>\n",
       "      <td>149.62</td>\n",
       "      <td>0</td>\n",
       "    </tr>\n",
       "    <tr>\n",
       "      <th>1</th>\n",
       "      <td>0.0</td>\n",
       "      <td>1.191857</td>\n",
       "      <td>0.266151</td>\n",
       "      <td>0.166480</td>\n",
       "      <td>0.448154</td>\n",
       "      <td>0.060018</td>\n",
       "      <td>-0.082361</td>\n",
       "      <td>-0.078803</td>\n",
       "      <td>0.085102</td>\n",
       "      <td>-0.255425</td>\n",
       "      <td>...</td>\n",
       "      <td>-0.225775</td>\n",
       "      <td>-0.638672</td>\n",
       "      <td>0.101288</td>\n",
       "      <td>-0.339846</td>\n",
       "      <td>0.167170</td>\n",
       "      <td>0.125895</td>\n",
       "      <td>-0.008983</td>\n",
       "      <td>0.014724</td>\n",
       "      <td>2.69</td>\n",
       "      <td>0</td>\n",
       "    </tr>\n",
       "    <tr>\n",
       "      <th>2</th>\n",
       "      <td>1.0</td>\n",
       "      <td>-1.358354</td>\n",
       "      <td>-1.340163</td>\n",
       "      <td>1.773209</td>\n",
       "      <td>0.379780</td>\n",
       "      <td>-0.503198</td>\n",
       "      <td>1.800499</td>\n",
       "      <td>0.791461</td>\n",
       "      <td>0.247676</td>\n",
       "      <td>-1.514654</td>\n",
       "      <td>...</td>\n",
       "      <td>0.247998</td>\n",
       "      <td>0.771679</td>\n",
       "      <td>0.909412</td>\n",
       "      <td>-0.689281</td>\n",
       "      <td>-0.327642</td>\n",
       "      <td>-0.139097</td>\n",
       "      <td>-0.055353</td>\n",
       "      <td>-0.059752</td>\n",
       "      <td>378.66</td>\n",
       "      <td>0</td>\n",
       "    </tr>\n",
       "    <tr>\n",
       "      <th>3</th>\n",
       "      <td>1.0</td>\n",
       "      <td>-0.966272</td>\n",
       "      <td>-0.185226</td>\n",
       "      <td>1.792993</td>\n",
       "      <td>-0.863291</td>\n",
       "      <td>-0.010309</td>\n",
       "      <td>1.247203</td>\n",
       "      <td>0.237609</td>\n",
       "      <td>0.377436</td>\n",
       "      <td>-1.387024</td>\n",
       "      <td>...</td>\n",
       "      <td>-0.108300</td>\n",
       "      <td>0.005274</td>\n",
       "      <td>-0.190321</td>\n",
       "      <td>-1.175575</td>\n",
       "      <td>0.647376</td>\n",
       "      <td>-0.221929</td>\n",
       "      <td>0.062723</td>\n",
       "      <td>0.061458</td>\n",
       "      <td>123.50</td>\n",
       "      <td>0</td>\n",
       "    </tr>\n",
       "    <tr>\n",
       "      <th>4</th>\n",
       "      <td>2.0</td>\n",
       "      <td>-1.158233</td>\n",
       "      <td>0.877737</td>\n",
       "      <td>1.548718</td>\n",
       "      <td>0.403034</td>\n",
       "      <td>-0.407193</td>\n",
       "      <td>0.095921</td>\n",
       "      <td>0.592941</td>\n",
       "      <td>-0.270533</td>\n",
       "      <td>0.817739</td>\n",
       "      <td>...</td>\n",
       "      <td>-0.009431</td>\n",
       "      <td>0.798278</td>\n",
       "      <td>-0.137458</td>\n",
       "      <td>0.141267</td>\n",
       "      <td>-0.206010</td>\n",
       "      <td>0.502292</td>\n",
       "      <td>0.219422</td>\n",
       "      <td>0.215153</td>\n",
       "      <td>69.99</td>\n",
       "      <td>0</td>\n",
       "    </tr>\n",
       "    <tr>\n",
       "      <th>5</th>\n",
       "      <td>2.0</td>\n",
       "      <td>-0.425966</td>\n",
       "      <td>0.960523</td>\n",
       "      <td>1.141109</td>\n",
       "      <td>-0.168252</td>\n",
       "      <td>0.420987</td>\n",
       "      <td>-0.029728</td>\n",
       "      <td>0.476201</td>\n",
       "      <td>0.260314</td>\n",
       "      <td>-0.568671</td>\n",
       "      <td>...</td>\n",
       "      <td>-0.208254</td>\n",
       "      <td>-0.559825</td>\n",
       "      <td>-0.026398</td>\n",
       "      <td>-0.371427</td>\n",
       "      <td>-0.232794</td>\n",
       "      <td>0.105915</td>\n",
       "      <td>0.253844</td>\n",
       "      <td>0.081080</td>\n",
       "      <td>3.67</td>\n",
       "      <td>0</td>\n",
       "    </tr>\n",
       "    <tr>\n",
       "      <th>6</th>\n",
       "      <td>4.0</td>\n",
       "      <td>1.229658</td>\n",
       "      <td>0.141004</td>\n",
       "      <td>0.045371</td>\n",
       "      <td>1.202613</td>\n",
       "      <td>0.191881</td>\n",
       "      <td>0.272708</td>\n",
       "      <td>-0.005159</td>\n",
       "      <td>0.081213</td>\n",
       "      <td>0.464960</td>\n",
       "      <td>...</td>\n",
       "      <td>-0.167716</td>\n",
       "      <td>-0.270710</td>\n",
       "      <td>-0.154104</td>\n",
       "      <td>-0.780055</td>\n",
       "      <td>0.750137</td>\n",
       "      <td>-0.257237</td>\n",
       "      <td>0.034507</td>\n",
       "      <td>0.005168</td>\n",
       "      <td>4.99</td>\n",
       "      <td>0</td>\n",
       "    </tr>\n",
       "    <tr>\n",
       "      <th>7</th>\n",
       "      <td>7.0</td>\n",
       "      <td>-0.644269</td>\n",
       "      <td>1.417964</td>\n",
       "      <td>1.074380</td>\n",
       "      <td>-0.492199</td>\n",
       "      <td>0.948934</td>\n",
       "      <td>0.428118</td>\n",
       "      <td>1.120631</td>\n",
       "      <td>-3.807864</td>\n",
       "      <td>0.615375</td>\n",
       "      <td>...</td>\n",
       "      <td>1.943465</td>\n",
       "      <td>-1.015455</td>\n",
       "      <td>0.057504</td>\n",
       "      <td>-0.649709</td>\n",
       "      <td>-0.415267</td>\n",
       "      <td>-0.051634</td>\n",
       "      <td>-1.206921</td>\n",
       "      <td>-1.085339</td>\n",
       "      <td>40.80</td>\n",
       "      <td>0</td>\n",
       "    </tr>\n",
       "    <tr>\n",
       "      <th>8</th>\n",
       "      <td>7.0</td>\n",
       "      <td>-0.894286</td>\n",
       "      <td>0.286157</td>\n",
       "      <td>-0.113192</td>\n",
       "      <td>-0.271526</td>\n",
       "      <td>2.669599</td>\n",
       "      <td>3.721818</td>\n",
       "      <td>0.370145</td>\n",
       "      <td>0.851084</td>\n",
       "      <td>-0.392048</td>\n",
       "      <td>...</td>\n",
       "      <td>-0.073425</td>\n",
       "      <td>-0.268092</td>\n",
       "      <td>-0.204233</td>\n",
       "      <td>1.011592</td>\n",
       "      <td>0.373205</td>\n",
       "      <td>-0.384157</td>\n",
       "      <td>0.011747</td>\n",
       "      <td>0.142404</td>\n",
       "      <td>93.20</td>\n",
       "      <td>0</td>\n",
       "    </tr>\n",
       "    <tr>\n",
       "      <th>9</th>\n",
       "      <td>9.0</td>\n",
       "      <td>-0.338262</td>\n",
       "      <td>1.119593</td>\n",
       "      <td>1.044367</td>\n",
       "      <td>-0.222187</td>\n",
       "      <td>0.499361</td>\n",
       "      <td>-0.246761</td>\n",
       "      <td>0.651583</td>\n",
       "      <td>0.069539</td>\n",
       "      <td>-0.736727</td>\n",
       "      <td>...</td>\n",
       "      <td>-0.246914</td>\n",
       "      <td>-0.633753</td>\n",
       "      <td>-0.120794</td>\n",
       "      <td>-0.385050</td>\n",
       "      <td>-0.069733</td>\n",
       "      <td>0.094199</td>\n",
       "      <td>0.246219</td>\n",
       "      <td>0.083076</td>\n",
       "      <td>3.68</td>\n",
       "      <td>0</td>\n",
       "    </tr>\n",
       "  </tbody>\n",
       "</table>\n",
       "<p>10 rows × 31 columns</p>\n",
       "</div>"
      ],
      "text/plain": [
       "   Time        V1        V2        V3        V4        V5        V6        V7  \\\n",
       "0   0.0 -1.359807 -0.072781  2.536347  1.378155 -0.338321  0.462388  0.239599   \n",
       "1   0.0  1.191857  0.266151  0.166480  0.448154  0.060018 -0.082361 -0.078803   \n",
       "2   1.0 -1.358354 -1.340163  1.773209  0.379780 -0.503198  1.800499  0.791461   \n",
       "3   1.0 -0.966272 -0.185226  1.792993 -0.863291 -0.010309  1.247203  0.237609   \n",
       "4   2.0 -1.158233  0.877737  1.548718  0.403034 -0.407193  0.095921  0.592941   \n",
       "5   2.0 -0.425966  0.960523  1.141109 -0.168252  0.420987 -0.029728  0.476201   \n",
       "6   4.0  1.229658  0.141004  0.045371  1.202613  0.191881  0.272708 -0.005159   \n",
       "7   7.0 -0.644269  1.417964  1.074380 -0.492199  0.948934  0.428118  1.120631   \n",
       "8   7.0 -0.894286  0.286157 -0.113192 -0.271526  2.669599  3.721818  0.370145   \n",
       "9   9.0 -0.338262  1.119593  1.044367 -0.222187  0.499361 -0.246761  0.651583   \n",
       "\n",
       "         V8        V9  ...       V21       V22       V23       V24       V25  \\\n",
       "0  0.098698  0.363787  ... -0.018307  0.277838 -0.110474  0.066928  0.128539   \n",
       "1  0.085102 -0.255425  ... -0.225775 -0.638672  0.101288 -0.339846  0.167170   \n",
       "2  0.247676 -1.514654  ...  0.247998  0.771679  0.909412 -0.689281 -0.327642   \n",
       "3  0.377436 -1.387024  ... -0.108300  0.005274 -0.190321 -1.175575  0.647376   \n",
       "4 -0.270533  0.817739  ... -0.009431  0.798278 -0.137458  0.141267 -0.206010   \n",
       "5  0.260314 -0.568671  ... -0.208254 -0.559825 -0.026398 -0.371427 -0.232794   \n",
       "6  0.081213  0.464960  ... -0.167716 -0.270710 -0.154104 -0.780055  0.750137   \n",
       "7 -3.807864  0.615375  ...  1.943465 -1.015455  0.057504 -0.649709 -0.415267   \n",
       "8  0.851084 -0.392048  ... -0.073425 -0.268092 -0.204233  1.011592  0.373205   \n",
       "9  0.069539 -0.736727  ... -0.246914 -0.633753 -0.120794 -0.385050 -0.069733   \n",
       "\n",
       "        V26       V27       V28  Amount  Class  \n",
       "0 -0.189115  0.133558 -0.021053  149.62      0  \n",
       "1  0.125895 -0.008983  0.014724    2.69      0  \n",
       "2 -0.139097 -0.055353 -0.059752  378.66      0  \n",
       "3 -0.221929  0.062723  0.061458  123.50      0  \n",
       "4  0.502292  0.219422  0.215153   69.99      0  \n",
       "5  0.105915  0.253844  0.081080    3.67      0  \n",
       "6 -0.257237  0.034507  0.005168    4.99      0  \n",
       "7 -0.051634 -1.206921 -1.085339   40.80      0  \n",
       "8 -0.384157  0.011747  0.142404   93.20      0  \n",
       "9  0.094199  0.246219  0.083076    3.68      0  \n",
       "\n",
       "[10 rows x 31 columns]"
      ]
     },
     "execution_count": 3,
     "metadata": {},
     "output_type": "execute_result"
    }
   ],
   "source": [
    "df_card.head(10)"
   ]
  },
  {
   "cell_type": "markdown",
   "id": "supported-frank",
   "metadata": {
    "papermill": {
     "duration": 0.0317,
     "end_time": "2021-04-08T22:13:57.726790",
     "exception": false,
     "start_time": "2021-04-08T22:13:57.695090",
     "status": "completed"
    },
    "tags": []
   },
   "source": [
    "#### Checking Shape and Size"
   ]
  },
  {
   "cell_type": "code",
   "execution_count": 4,
   "id": "perceived-bidding",
   "metadata": {
    "execution": {
     "iopub.execute_input": "2021-04-08T22:13:57.804557Z",
     "iopub.status.busy": "2021-04-08T22:13:57.803734Z",
     "iopub.status.idle": "2021-04-08T22:13:57.809524Z",
     "shell.execute_reply": "2021-04-08T22:13:57.810115Z"
    },
    "papermill": {
     "duration": 0.045414,
     "end_time": "2021-04-08T22:13:57.810327",
     "exception": false,
     "start_time": "2021-04-08T22:13:57.764913",
     "status": "completed"
    },
    "tags": []
   },
   "outputs": [
    {
     "name": "stdout",
     "output_type": "stream",
     "text": [
      "(284807, 31)\n",
      "8829017\n"
     ]
    }
   ],
   "source": [
    "print(df_card.shape)\n",
    "print(df_card.size)"
   ]
  },
  {
   "cell_type": "markdown",
   "id": "czech-feature",
   "metadata": {
    "papermill": {
     "duration": 0.029429,
     "end_time": "2021-04-08T22:13:57.876640",
     "exception": false,
     "start_time": "2021-04-08T22:13:57.847211",
     "status": "completed"
    },
    "tags": []
   },
   "source": [
    "<a id=\"2\"></a> <br>\n",
    "# Cleaning the Data"
   ]
  },
  {
   "cell_type": "code",
   "execution_count": 5,
   "id": "nasty-float",
   "metadata": {
    "execution": {
     "iopub.execute_input": "2021-04-08T22:13:57.944423Z",
     "iopub.status.busy": "2021-04-08T22:13:57.943070Z",
     "iopub.status.idle": "2021-04-08T22:13:57.984193Z",
     "shell.execute_reply": "2021-04-08T22:13:57.983427Z"
    },
    "papermill": {
     "duration": 0.075742,
     "end_time": "2021-04-08T22:13:57.984353",
     "exception": false,
     "start_time": "2021-04-08T22:13:57.908611",
     "status": "completed"
    },
    "tags": []
   },
   "outputs": [
    {
     "name": "stdout",
     "output_type": "stream",
     "text": [
      "<class 'pandas.core.frame.DataFrame'>\n",
      "RangeIndex: 284807 entries, 0 to 284806\n",
      "Data columns (total 31 columns):\n",
      " #   Column  Non-Null Count   Dtype  \n",
      "---  ------  --------------   -----  \n",
      " 0   Time    284807 non-null  float64\n",
      " 1   V1      284807 non-null  float64\n",
      " 2   V2      284807 non-null  float64\n",
      " 3   V3      284807 non-null  float64\n",
      " 4   V4      284807 non-null  float64\n",
      " 5   V5      284807 non-null  float64\n",
      " 6   V6      284807 non-null  float64\n",
      " 7   V7      284807 non-null  float64\n",
      " 8   V8      284807 non-null  float64\n",
      " 9   V9      284807 non-null  float64\n",
      " 10  V10     284807 non-null  float64\n",
      " 11  V11     284807 non-null  float64\n",
      " 12  V12     284807 non-null  float64\n",
      " 13  V13     284807 non-null  float64\n",
      " 14  V14     284807 non-null  float64\n",
      " 15  V15     284807 non-null  float64\n",
      " 16  V16     284807 non-null  float64\n",
      " 17  V17     284807 non-null  float64\n",
      " 18  V18     284807 non-null  float64\n",
      " 19  V19     284807 non-null  float64\n",
      " 20  V20     284807 non-null  float64\n",
      " 21  V21     284807 non-null  float64\n",
      " 22  V22     284807 non-null  float64\n",
      " 23  V23     284807 non-null  float64\n",
      " 24  V24     284807 non-null  float64\n",
      " 25  V25     284807 non-null  float64\n",
      " 26  V26     284807 non-null  float64\n",
      " 27  V27     284807 non-null  float64\n",
      " 28  V28     284807 non-null  float64\n",
      " 29  Amount  284807 non-null  float64\n",
      " 30  Class   284807 non-null  int64  \n",
      "dtypes: float64(30), int64(1)\n",
      "memory usage: 67.4 MB\n"
     ]
    }
   ],
   "source": [
    "df_card.info()"
   ]
  },
  {
   "cell_type": "markdown",
   "id": "satellite-encoding",
   "metadata": {
    "papermill": {
     "duration": 0.034482,
     "end_time": "2021-04-08T22:13:58.051086",
     "exception": false,
     "start_time": "2021-04-08T22:13:58.016604",
     "status": "completed"
    },
    "tags": []
   },
   "source": [
    "There is no missing value."
   ]
  },
  {
   "cell_type": "markdown",
   "id": "extra-egypt",
   "metadata": {
    "papermill": {
     "duration": 0.029249,
     "end_time": "2021-04-08T22:13:58.110866",
     "exception": false,
     "start_time": "2021-04-08T22:13:58.081617",
     "status": "completed"
    },
    "tags": []
   },
   "source": [
    "#### Dropping Time Column"
   ]
  },
  {
   "cell_type": "code",
   "execution_count": 6,
   "id": "wound-accordance",
   "metadata": {
    "execution": {
     "iopub.execute_input": "2021-04-08T22:13:58.214984Z",
     "iopub.status.busy": "2021-04-08T22:13:58.212849Z",
     "iopub.status.idle": "2021-04-08T22:13:58.219083Z",
     "shell.execute_reply": "2021-04-08T22:13:58.218318Z"
    },
    "papermill": {
     "duration": 0.076419,
     "end_time": "2021-04-08T22:13:58.219258",
     "exception": false,
     "start_time": "2021-04-08T22:13:58.142839",
     "status": "completed"
    },
    "tags": []
   },
   "outputs": [],
   "source": [
    "df_card.drop(columns = ['Time'], inplace= True)"
   ]
  },
  {
   "cell_type": "code",
   "execution_count": 7,
   "id": "mental-steam",
   "metadata": {
    "execution": {
     "iopub.execute_input": "2021-04-08T22:13:58.289740Z",
     "iopub.status.busy": "2021-04-08T22:13:58.288731Z",
     "iopub.status.idle": "2021-04-08T22:13:58.623859Z",
     "shell.execute_reply": "2021-04-08T22:13:58.623117Z"
    },
    "papermill": {
     "duration": 0.374337,
     "end_time": "2021-04-08T22:13:58.624015",
     "exception": false,
     "start_time": "2021-04-08T22:13:58.249678",
     "status": "completed"
    },
    "tags": []
   },
   "outputs": [],
   "source": [
    "# Standardizing the amount column\n",
    "from sklearn import preprocessing\n",
    "scaler = preprocessing.StandardScaler()\n",
    "#standard scaling\n",
    "df_card['Stand_Amount'] = scaler.fit_transform(df_card['Amount'].values.reshape (-1,1))\n",
    "\n",
    "#removing Amount\n",
    "df = df_card.drop(\"Amount\", axis=1)"
   ]
  },
  {
   "cell_type": "markdown",
   "id": "precious-peoples",
   "metadata": {
    "papermill": {
     "duration": 0.030025,
     "end_time": "2021-04-08T22:13:58.688091",
     "exception": false,
     "start_time": "2021-04-08T22:13:58.658066",
     "status": "completed"
    },
    "tags": []
   },
   "source": [
    "#### Class column"
   ]
  },
  {
   "cell_type": "code",
   "execution_count": 8,
   "id": "occupied-virginia",
   "metadata": {
    "execution": {
     "iopub.execute_input": "2021-04-08T22:13:58.755795Z",
     "iopub.status.busy": "2021-04-08T22:13:58.754660Z",
     "iopub.status.idle": "2021-04-08T22:13:58.967976Z",
     "shell.execute_reply": "2021-04-08T22:13:58.967121Z"
    },
    "papermill": {
     "duration": 0.249275,
     "end_time": "2021-04-08T22:13:58.968171",
     "exception": false,
     "start_time": "2021-04-08T22:13:58.718896",
     "status": "completed"
    },
    "tags": []
   },
   "outputs": [
    {
     "data": {
      "text/plain": [
       "<AxesSubplot:xlabel='Class', ylabel='count'>"
      ]
     },
     "execution_count": 8,
     "metadata": {},
     "output_type": "execute_result"
    },
    {
     "data": {
      "image/png": "[encoded data removed]",
      "text/plain": [
       "<Figure size 864x360 with 1 Axes>"
      ]
     },
     "metadata": {
      "needs_background": "light"
     },
     "output_type": "display_data"
    }
   ],
   "source": [
    "sns.countplot(x=\"Class\", data=df_card)"
   ]
  },
  {
   "cell_type": "markdown",
   "id": "revolutionary-flesh",
   "metadata": {
    "papermill": {
     "duration": 0.036377,
     "end_time": "2021-04-08T22:13:59.040292",
     "exception": false,
     "start_time": "2021-04-08T22:13:59.003915",
     "status": "completed"
    },
    "tags": []
   },
   "source": [
    "The dataset is highly imbalanced so we need to undersample data."
   ]
  },
  {
   "cell_type": "markdown",
   "id": "proprietary-sleeve",
   "metadata": {
    "papermill": {
     "duration": 0.030174,
     "end_time": "2021-04-08T22:13:59.103117",
     "exception": false,
     "start_time": "2021-04-08T22:13:59.072943",
     "status": "completed"
    },
    "tags": []
   },
   "source": [
    "# Undersampling the Data"
   ]
  },
  {
   "cell_type": "code",
   "execution_count": 9,
   "id": "bridal-following",
   "metadata": {
    "execution": {
     "iopub.execute_input": "2021-04-08T22:13:59.176289Z",
     "iopub.status.busy": "2021-04-08T22:13:59.175564Z",
     "iopub.status.idle": "2021-04-08T22:13:59.759473Z",
     "shell.execute_reply": "2021-04-08T22:13:59.758093Z"
    },
    "papermill": {
     "duration": 0.623783,
     "end_time": "2021-04-08T22:13:59.759782",
     "exception": false,
     "start_time": "2021-04-08T22:13:59.135999",
     "status": "completed"
    },
    "tags": []
   },
   "outputs": [],
   "source": [
    "import imblearn\n",
    "from imblearn.under_sampling import RandomUnderSampler \n",
    "\n",
    "undersample = RandomUnderSampler(sampling_strategy=0.5)"
   ]
  },
  {
   "cell_type": "code",
   "execution_count": 10,
   "id": "regular-columbia",
   "metadata": {
    "execution": {
     "iopub.execute_input": "2021-04-08T22:13:59.836780Z",
     "iopub.status.busy": "2021-04-08T22:13:59.836042Z",
     "iopub.status.idle": "2021-04-08T22:13:59.840431Z",
     "shell.execute_reply": "2021-04-08T22:13:59.839861Z"
    },
    "papermill": {
     "duration": 0.046779,
     "end_time": "2021-04-08T22:13:59.840586",
     "exception": false,
     "start_time": "2021-04-08T22:13:59.793807",
     "status": "completed"
    },
    "tags": []
   },
   "outputs": [],
   "source": [
    "cols = df.columns.tolist()\n",
    "cols = [c for c in cols if c not in [\"Class\"]]\n",
    "target = \"Class\""
   ]
  },
  {
   "cell_type": "code",
   "execution_count": 11,
   "id": "needed-growth",
   "metadata": {
    "execution": {
     "iopub.execute_input": "2021-04-08T22:13:59.945278Z",
     "iopub.status.busy": "2021-04-08T22:13:59.944558Z",
     "iopub.status.idle": "2021-04-08T22:14:00.111565Z",
     "shell.execute_reply": "2021-04-08T22:14:00.110583Z"
    },
    "papermill": {
     "duration": 0.238078,
     "end_time": "2021-04-08T22:14:00.111777",
     "exception": false,
     "start_time": "2021-04-08T22:13:59.873699",
     "status": "completed"
    },
    "tags": []
   },
   "outputs": [],
   "source": [
    "# Define X and Y\n",
    "X = df[cols]\n",
    "Y = df[target]\n",
    "\n",
    "# Undersampling\n",
    "X_sample, Y_sample = undersample.fit_resample(X, Y)"
   ]
  },
  {
   "cell_type": "code",
   "execution_count": 12,
   "id": "regulated-mandate",
   "metadata": {
    "execution": {
     "iopub.execute_input": "2021-04-08T22:14:00.199794Z",
     "iopub.status.busy": "2021-04-08T22:14:00.198677Z",
     "iopub.status.idle": "2021-04-08T22:14:00.204775Z",
     "shell.execute_reply": "2021-04-08T22:14:00.203619Z"
    },
    "papermill": {
     "duration": 0.054653,
     "end_time": "2021-04-08T22:14:00.204995",
     "exception": false,
     "start_time": "2021-04-08T22:14:00.150342",
     "status": "completed"
    },
    "tags": []
   },
   "outputs": [],
   "source": [
    "test = pd.DataFrame(Y_sample, columns = ['Class'])"
   ]
  },
  {
   "cell_type": "code",
   "execution_count": 13,
   "id": "attractive-satellite",
   "metadata": {
    "execution": {
     "iopub.execute_input": "2021-04-08T22:14:00.321348Z",
     "iopub.status.busy": "2021-04-08T22:14:00.320043Z",
     "iopub.status.idle": "2021-04-08T22:14:00.609125Z",
     "shell.execute_reply": "2021-04-08T22:14:00.608364Z"
    },
    "papermill": {
     "duration": 0.35925,
     "end_time": "2021-04-08T22:14:00.609322",
     "exception": false,
     "start_time": "2021-04-08T22:14:00.250072",
     "status": "completed"
    },
    "tags": []
   },
   "outputs": [
    {
     "data": {
      "text/plain": [
       "Text(0.5, 1.0, 'After')"
      ]
     },
     "execution_count": 13,
     "metadata": {},
     "output_type": "execute_result"
    },
    {
     "data": {
      "image/png": "[encoded data removed]",
      "text/plain": [
       "<Figure size 936x324 with 2 Axes>"
      ]
     },
     "metadata": {
      "needs_background": "light"
     },
     "output_type": "display_data"
    }
   ],
   "source": [
    "#visualizing undersampling results\n",
    "fig, axs = plt.subplots(ncols=2, figsize=(13,4.5))\n",
    "sns.countplot(x=\"Class\", data=df, ax=axs[0])\n",
    "sns.countplot(x=\"Class\", data=test, ax=axs[1])\n",
    "\n",
    "fig.suptitle(\"Class repartition before and after undersampling\")\n",
    "a1=fig.axes[0]\n",
    "a1.set_title(\"Before\")\n",
    "a2=fig.axes[1]\n",
    "a2.set_title(\"After\")"
   ]
  },
  {
   "cell_type": "markdown",
   "id": "tropical-senegal",
   "metadata": {
    "papermill": {
     "duration": 0.041062,
     "end_time": "2021-04-08T22:14:00.690998",
     "exception": false,
     "start_time": "2021-04-08T22:14:00.649936",
     "status": "completed"
    },
    "tags": []
   },
   "source": [
    "# Splitting the Data\n",
    "Splitting data into training and testing data."
   ]
  },
  {
   "cell_type": "code",
   "execution_count": 14,
   "id": "opponent-yorkshire",
   "metadata": {
    "execution": {
     "iopub.execute_input": "2021-04-08T22:14:00.768064Z",
     "iopub.status.busy": "2021-04-08T22:14:00.767126Z",
     "iopub.status.idle": "2021-04-08T22:14:00.774019Z",
     "shell.execute_reply": "2021-04-08T22:14:00.773335Z"
    },
    "papermill": {
     "duration": 0.049342,
     "end_time": "2021-04-08T22:14:00.774220",
     "exception": false,
     "start_time": "2021-04-08T22:14:00.724878",
     "status": "completed"
    },
    "tags": []
   },
   "outputs": [],
   "source": [
    "from sklearn.model_selection import train_test_split\n",
    "\n",
    "X_train, X_test, y_train, y_test = train_test_split(X_sample, Y_sample, test_size=0.3, random_state=1)"
   ]
  },
  {
   "cell_type": "code",
   "execution_count": 15,
   "id": "valued-adult",
   "metadata": {
    "execution": {
     "iopub.execute_input": "2021-04-08T22:14:00.858221Z",
     "iopub.status.busy": "2021-04-08T22:14:00.856997Z",
     "iopub.status.idle": "2021-04-08T22:14:00.862339Z",
     "shell.execute_reply": "2021-04-08T22:14:00.861617Z"
    },
    "papermill": {
     "duration": 0.050759,
     "end_time": "2021-04-08T22:14:00.862524",
     "exception": false,
     "start_time": "2021-04-08T22:14:00.811765",
     "status": "completed"
    },
    "tags": []
   },
   "outputs": [
    {
     "name": "stdout",
     "output_type": "stream",
     "text": [
      "1033\n",
      "1033\n",
      "443\n",
      "443\n"
     ]
    }
   ],
   "source": [
    "print(len(X_train))\n",
    "print(len(y_train))\n",
    "print(len(X_test))\n",
    "print(len(y_test))"
   ]
  },
  {
   "cell_type": "code",
   "execution_count": 16,
   "id": "subjective-grass",
   "metadata": {
    "execution": {
     "iopub.execute_input": "2021-04-08T22:14:00.948814Z",
     "iopub.status.busy": "2021-04-08T22:14:00.948037Z",
     "iopub.status.idle": "2021-04-08T22:14:08.438099Z",
     "shell.execute_reply": "2021-04-08T22:14:08.437490Z"
    },
    "papermill": {
     "duration": 7.531712,
     "end_time": "2021-04-08T22:14:08.438322",
     "exception": false,
     "start_time": "2021-04-08T22:14:00.906610",
     "status": "completed"
    },
    "tags": []
   },
   "outputs": [],
   "source": [
    "import tensorflow as tf\n",
    "from tensorflow import keras\n",
    "from keras.models import Sequential\n",
    "from keras.layers import Dropout\n",
    "from keras.layers import Dense\n",
    "from tensorflow.keras import layers\n",
    "from keras import regularizers\n",
    "from sklearn import metrics"
   ]
  },
  {
   "cell_type": "markdown",
   "id": "grand-night",
   "metadata": {
    "papermill": {
     "duration": 0.036799,
     "end_time": "2021-04-08T22:14:08.512476",
     "exception": false,
     "start_time": "2021-04-08T22:14:08.475677",
     "status": "completed"
    },
    "tags": []
   },
   "source": [
    "# Building a Multi-layer Neural Network"
   ]
  },
  {
   "cell_type": "code",
   "execution_count": 17,
   "id": "arctic-hygiene",
   "metadata": {
    "execution": {
     "iopub.execute_input": "2021-04-08T22:14:08.598787Z",
     "iopub.status.busy": "2021-04-08T22:14:08.597993Z",
     "iopub.status.idle": "2021-04-08T22:14:08.941859Z",
     "shell.execute_reply": "2021-04-08T22:14:08.940654Z"
    },
    "papermill": {
     "duration": 0.389374,
     "end_time": "2021-04-08T22:14:08.942095",
     "exception": false,
     "start_time": "2021-04-08T22:14:08.552721",
     "status": "completed"
    },
    "tags": []
   },
   "outputs": [],
   "source": [
    "model = Sequential()\n",
    "model.add(Dense(32 , activation='relu', input_shape=(X_train.shape[-1],))) # Input Layer\n",
    "model.add(Dropout(0.5)) # Dropout Layer\n",
    "model.add(Dense(16 , activation='relu'))\n",
    "model.add(Dropout(0.5)) # Dropout Layer\n",
    "model.add(Dense(8 , activation='relu'))\n",
    "model.add(Dropout(0.5)) # Dropout Layer\n",
    "model.add(Dense(4 , activation='relu'))\n",
    "model.add(Dense(1, activation='sigmoid'))"
   ]
  },
  {
   "cell_type": "markdown",
   "id": "united-superintendent",
   "metadata": {
    "papermill": {
     "duration": 0.040656,
     "end_time": "2021-04-08T22:14:09.020412",
     "exception": false,
     "start_time": "2021-04-08T22:14:08.979756",
     "status": "completed"
    },
    "tags": []
   },
   "source": [
    "As this is a binary classification problem we will use **sigmoid activation** in the last layer."
   ]
  },
  {
   "cell_type": "markdown",
   "id": "naked-pillow",
   "metadata": {
    "papermill": {
     "duration": 0.039412,
     "end_time": "2021-04-08T22:14:09.096261",
     "exception": false,
     "start_time": "2021-04-08T22:14:09.056849",
     "status": "completed"
    },
    "tags": []
   },
   "source": [
    "# Compiling Model"
   ]
  },
  {
   "cell_type": "code",
   "execution_count": 18,
   "id": "attractive-receipt",
   "metadata": {
    "execution": {
     "iopub.execute_input": "2021-04-08T22:14:09.192124Z",
     "iopub.status.busy": "2021-04-08T22:14:09.188368Z",
     "iopub.status.idle": "2021-04-08T22:14:09.195666Z",
     "shell.execute_reply": "2021-04-08T22:14:09.196235Z"
    },
    "papermill": {
     "duration": 0.063754,
     "end_time": "2021-04-08T22:14:09.196425",
     "exception": false,
     "start_time": "2021-04-08T22:14:09.132671",
     "status": "completed"
    },
    "tags": []
   },
   "outputs": [],
   "source": [
    "optimizer = tf.keras.optimizers.Adam(learning_rate=0.001) #optimizer\n",
    "\n",
    "model.compile(optimizer=optimizer, loss=tf.keras.losses.BinaryCrossentropy(), metrics=['accuracy']) "
   ]
  },
  {
   "cell_type": "markdown",
   "id": "utility-freight",
   "metadata": {
    "papermill": {
     "duration": 0.033259,
     "end_time": "2021-04-08T22:14:09.263497",
     "exception": false,
     "start_time": "2021-04-08T22:14:09.230238",
     "status": "completed"
    },
    "tags": []
   },
   "source": [
    "As this is a binary classification problem we will use **Binary Cross Entropy** for loss and **Accuracy** for metric."
   ]
  },
  {
   "cell_type": "code",
   "execution_count": 19,
   "id": "hawaiian-navigation",
   "metadata": {
    "execution": {
     "iopub.execute_input": "2021-04-08T22:14:09.348754Z",
     "iopub.status.busy": "2021-04-08T22:14:09.347522Z",
     "iopub.status.idle": "2021-04-08T22:14:09.356246Z",
     "shell.execute_reply": "2021-04-08T22:14:09.355481Z"
    },
    "papermill": {
     "duration": 0.054033,
     "end_time": "2021-04-08T22:14:09.356402",
     "exception": false,
     "start_time": "2021-04-08T22:14:09.302369",
     "status": "completed"
    },
    "tags": []
   },
   "outputs": [
    {
     "name": "stdout",
     "output_type": "stream",
     "text": [
      "Model: \"sequential\"\n",
      "_________________________________________________________________\n",
      "Layer (type)                 Output Shape              Param #   \n",
      "=================================================================\n",
      "dense (Dense)                (None, 32)                960       \n",
      "_________________________________________________________________\n",
      "dropout (Dropout)            (None, 32)                0         \n",
      "_________________________________________________________________\n",
      "dense_1 (Dense)              (None, 16)                528       \n",
      "_________________________________________________________________\n",
      "dropout_1 (Dropout)          (None, 16)                0         \n",
      "_________________________________________________________________\n",
      "dense_2 (Dense)              (None, 8)                 136       \n",
      "_________________________________________________________________\n",
      "dropout_2 (Dropout)          (None, 8)                 0         \n",
      "_________________________________________________________________\n",
      "dense_3 (Dense)              (None, 4)                 36        \n",
      "_________________________________________________________________\n",
      "dense_4 (Dense)              (None, 1)                 5         \n",
      "=================================================================\n",
      "Total params: 1,665\n",
      "Trainable params: 1,665\n",
      "Non-trainable params: 0\n",
      "_________________________________________________________________\n"
     ]
    }
   ],
   "source": [
    "model.summary()"
   ]
  },
  {
   "cell_type": "markdown",
   "id": "contemporary-brook",
   "metadata": {
    "papermill": {
     "duration": 0.035963,
     "end_time": "2021-04-08T22:14:09.428988",
     "exception": false,
     "start_time": "2021-04-08T22:14:09.393025",
     "status": "completed"
    },
    "tags": []
   },
   "source": [
    "<a id=\"8\"></a> <br>\n",
    "## Training"
   ]
  },
  {
   "cell_type": "code",
   "execution_count": 20,
   "id": "realistic-poland",
   "metadata": {
    "execution": {
     "iopub.execute_input": "2021-04-08T22:14:09.513941Z",
     "iopub.status.busy": "2021-04-08T22:14:09.513109Z",
     "iopub.status.idle": "2021-04-08T22:14:14.329455Z",
     "shell.execute_reply": "2021-04-08T22:14:14.330106Z"
    },
    "papermill": {
     "duration": 4.86292,
     "end_time": "2021-04-08T22:14:14.330387",
     "exception": false,
     "start_time": "2021-04-08T22:14:09.467467",
     "status": "completed"
    },
    "tags": []
   },
   "outputs": [],
   "source": [
    "num_epochs = 6\n",
    "history = model.fit(X_train,y_train,epochs=num_epochs, batch_size=5, validation_split=0.2, verbose=0)\n",
    "history_dict = history.history"
   ]
  },
  {
   "cell_type": "markdown",
   "id": "conscious-comparative",
   "metadata": {
    "papermill": {
     "duration": 0.036892,
     "end_time": "2021-04-08T22:14:14.403639",
     "exception": false,
     "start_time": "2021-04-08T22:14:14.366747",
     "status": "completed"
    },
    "tags": []
   },
   "source": [
    "##### Training Loss Vs Validation Loss"
   ]
  },
  {
   "cell_type": "code",
   "execution_count": 21,
   "id": "recovered-basement",
   "metadata": {
    "execution": {
     "iopub.execute_input": "2021-04-08T22:14:14.526244Z",
     "iopub.status.busy": "2021-04-08T22:14:14.525341Z",
     "iopub.status.idle": "2021-04-08T22:14:14.705379Z",
     "shell.execute_reply": "2021-04-08T22:14:14.704715Z"
    },
    "papermill": {
     "duration": 0.262746,
     "end_time": "2021-04-08T22:14:14.705583",
     "exception": false,
     "start_time": "2021-04-08T22:14:14.442837",
     "status": "completed"
    },
    "tags": []
   },
   "outputs": [
    {
     "data": {
      "text/plain": [
       "Text(0.5, 0, 'Epochs')"
      ]
     },
     "execution_count": 21,
     "metadata": {},
     "output_type": "execute_result"
    },
    {
     "data": {
      "image/png": "[encoded data removed]",
      "text/plain": [
       "<Figure size 864x360 with 1 Axes>"
      ]
     },
     "metadata": {
      "needs_background": "light"
     },
     "output_type": "display_data"
    }
   ],
   "source": [
    "loss_values = history_dict['loss']\n",
    "val_loss_values=history_dict['val_loss']\n",
    "plt.plot(loss_values,'b',label='training loss')\n",
    "plt.plot(val_loss_values,'r',label='val training loss')\n",
    "plt.legend()\n",
    "plt.xlabel(\"Epochs\")"
   ]
  },
  {
   "cell_type": "markdown",
   "id": "compliant-mobility",
   "metadata": {
    "papermill": {
     "duration": 0.038499,
     "end_time": "2021-04-08T22:14:14.782936",
     "exception": false,
     "start_time": "2021-04-08T22:14:14.744437",
     "status": "completed"
    },
    "tags": []
   },
   "source": [
    "##### Validation accuracy"
   ]
  },
  {
   "cell_type": "code",
   "execution_count": 22,
   "id": "grave-postcard",
   "metadata": {
    "execution": {
     "iopub.execute_input": "2021-04-08T22:14:14.891748Z",
     "iopub.status.busy": "2021-04-08T22:14:14.887911Z",
     "iopub.status.idle": "2021-04-08T22:14:15.072863Z",
     "shell.execute_reply": "2021-04-08T22:14:15.071724Z"
    },
    "papermill": {
     "duration": 0.24965,
     "end_time": "2021-04-08T22:14:15.073036",
     "exception": false,
     "start_time": "2021-04-08T22:14:14.823386",
     "status": "completed"
    },
    "tags": []
   },
   "outputs": [
    {
     "data": {
      "text/plain": [
       "Text(0.5, 0, 'Epochs')"
      ]
     },
     "execution_count": 22,
     "metadata": {},
     "output_type": "execute_result"
    },
    {
     "data": {
      "image/png": "[encoded data removed]",
      "text/plain": [
       "<Figure size 864x360 with 1 Axes>"
      ]
     },
     "metadata": {
      "needs_background": "light"
     },
     "output_type": "display_data"
    }
   ],
   "source": [
    "accuracy_values = history_dict['accuracy']\n",
    "val_accuracy_values=history_dict['val_accuracy']\n",
    "plt.plot(val_accuracy_values,'-r',label='val_accuracy')\n",
    "plt.plot(accuracy_values,'-b',label='accuracy')\n",
    "plt.legend()\n",
    "plt.xlabel(\"Epochs\")"
   ]
  },
  {
   "cell_type": "markdown",
   "id": "national-highway",
   "metadata": {
    "papermill": {
     "duration": 0.037435,
     "end_time": "2021-04-08T22:14:15.151074",
     "exception": false,
     "start_time": "2021-04-08T22:14:15.113639",
     "status": "completed"
    },
    "tags": []
   },
   "source": [
    "<a id=\"11\"></a> <br>\n",
    "## Prediction"
   ]
  },
  {
   "cell_type": "code",
   "execution_count": 23,
   "id": "talented-rebecca",
   "metadata": {
    "execution": {
     "iopub.execute_input": "2021-04-08T22:14:15.241445Z",
     "iopub.status.busy": "2021-04-08T22:14:15.237256Z",
     "iopub.status.idle": "2021-04-08T22:14:15.406439Z",
     "shell.execute_reply": "2021-04-08T22:14:15.405844Z"
    },
    "papermill": {
     "duration": 0.21823,
     "end_time": "2021-04-08T22:14:15.406614",
     "exception": false,
     "start_time": "2021-04-08T22:14:15.188384",
     "status": "completed"
    },
    "tags": []
   },
   "outputs": [],
   "source": [
    "y_pred = model.predict_classes(X_test)"
   ]
  },
  {
   "cell_type": "markdown",
   "id": "round-modem",
   "metadata": {
    "papermill": {
     "duration": 0.041738,
     "end_time": "2021-04-08T22:14:15.486381",
     "exception": false,
     "start_time": "2021-04-08T22:14:15.444643",
     "status": "completed"
    },
    "tags": []
   },
   "source": [
    "## Score"
   ]
  },
  {
   "cell_type": "code",
   "execution_count": 24,
   "id": "modern-discharge",
   "metadata": {
    "execution": {
     "iopub.execute_input": "2021-04-08T22:14:15.571794Z",
     "iopub.status.busy": "2021-04-08T22:14:15.571049Z",
     "iopub.status.idle": "2021-04-08T22:14:15.589734Z",
     "shell.execute_reply": "2021-04-08T22:14:15.590577Z"
    },
    "papermill": {
     "duration": 0.065055,
     "end_time": "2021-04-08T22:14:15.590920",
     "exception": false,
     "start_time": "2021-04-08T22:14:15.525865",
     "status": "completed"
    },
    "tags": []
   },
   "outputs": [
    {
     "name": "stdout",
     "output_type": "stream",
     "text": [
      "Accuracy Neural Net: 0.9255079006772009\n",
      "Precision Neural Net: 1.0\n",
      "Recall Neural Net: 0.7843137254901961\n",
      "F1 Score Neural Net: 0.8791208791208792\n"
     ]
    }
   ],
   "source": [
    "#scores\n",
    "print(\"Accuracy Neural Net:\",metrics.accuracy_score(y_test, y_pred))\n",
    "print(\"Precision Neural Net:\",metrics.precision_score(y_test, y_pred))\n",
    "print(\"Recall Neural Net:\",metrics.recall_score(y_test, y_pred))\n",
    "print(\"F1 Score Neural Net:\",metrics.f1_score(y_test, y_pred))\n",
    "#print(metrics.classification_report(y_test, y_pred))"
   ]
  },
  {
   "cell_type": "markdown",
   "id": "regulated-skirt",
   "metadata": {
    "papermill": {
     "duration": 0.042575,
     "end_time": "2021-04-08T22:14:15.677572",
     "exception": false,
     "start_time": "2021-04-08T22:14:15.634997",
     "status": "completed"
    },
    "tags": []
   },
   "source": [
    "## ACCURACY = 92 %\n",
    "Accuracy can be improved by tuning hyperparmeters."
   ]
  },
  {
   "cell_type": "markdown",
   "id": "hybrid-franchise",
   "metadata": {
    "papermill": {
     "duration": 0.039737,
     "end_time": "2021-04-08T22:14:15.760541",
     "exception": false,
     "start_time": "2021-04-08T22:14:15.720804",
     "status": "completed"
    },
    "tags": []
   },
   "source": [
    "### If this Kernel helped you in any way, some <span style=\"color:red\">UPVOTES !!!</span> would be very much appreciated."
   ]
  }
 ],
 "metadata": {
  "kernelspec": {
   "display_name": "Python 3",
   "language": "python",
   "name": "python3"
  },
  "language_info": {
   "codemirror_mode": {
    "name": "ipython",
    "version": 3
   },
   "file_extension": ".py",
   "mimetype": "text/x-python",
   "name": "python",
   "nbconvert_exporter": "python",
   "pygments_lexer": "ipython3",
   "version": "3.7.9"
  },
  "papermill": {
   "default_parameters": {},
   "duration": 34.254969,
   "end_time": "2021-04-08T22:14:17.313025",
   "environment_variables": {},
   "exception": null,
   "input_path": "__notebook__.ipynb",
   "output_path": "__notebook__.ipynb",
   "parameters": {},
   "start_time": "2021-04-08T22:13:43.058056",
   "version": "2.3.2"
  }
 },
 "nbformat": 4,
 "nbformat_minor": 5
}
